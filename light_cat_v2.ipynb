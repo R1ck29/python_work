{
 "cells": [
  {
   "cell_type": "markdown",
   "metadata": {
    "_uuid": "a4176bdb948cbe9f4ac9375d537bcb5bd1d9e543"
   },
   "source": [
    "# Used in this kernel:\n",
    "* preprocessed dataset by olivier https://www.kaggle.com/ogrellier/create-extracted-json-fields-dataset\n",
    "* exported google analytics data https://www.kaggle.com/satian/exported-google-analytics-data\n",
    "\n",
    "\n",
    "* story of a leak v.01 https://www.kaggle.com/igauty/story-of-a-leak-v01\n",
    "* future is here https://www.kaggle.com/ashishpatel26/future-is-here\n",
    "* teach-lightgbm-to-sum-predictions https://www.kaggle.com/satian/story-of-a-leak/notebook\n",
    "\n",
    "\n",
    "The code below is full of bugs, which I didn't remove as they seem to improve LB."
   ]
  },
  {
   "cell_type": "code",
   "execution_count": 1,
   "metadata": {
    "ExecuteTime": {
     "end_time": "2018-10-14T10:14:20.374807Z",
     "start_time": "2018-10-14T10:14:18.330773Z"
    },
    "_uuid": "b016d39d81044ee10dc2db1e96effe796ab436c7"
   },
   "outputs": [
    {
     "name": "stderr",
     "output_type": "stream",
     "text": [
      "/Users/rick/anaconda3/lib/python3.6/site-packages/lightgbm/__init__.py:46: UserWarning: Starting from version 2.2.1, the library file in distribution wheels for macOS is built by the Apple Clang (Xcode_9.4.1) compiler.\n",
      "This means that in case of installing LightGBM from PyPI via the ``pip install lightgbm`` command, you don't need to install the gcc compiler anymore.\n",
      "Instead of that, you need to install the OpenMP library, which is required for running LightGBM on the system with the Apple Clang compiler.\n",
      "You can install the OpenMP library by the following command: ``brew install libomp``.\n",
      "  \"You can install the OpenMP library by the following command: ``brew install libomp``.\", UserWarning)\n"
     ]
    }
   ],
   "source": [
    "import pandas as pd\n",
    "import numpy as np\n",
    "\n",
    "# DRAGONS\n",
    "import xgboost as xgb\n",
    "import lightgbm as lgb\n",
    "import catboost as cat\n",
    "\n",
    "# plots\n",
    "import seaborn as sns\n",
    "import matplotlib.pyplot as plt\n",
    "%matplotlib inline\n",
    "\n",
    "import json\n",
    "# import bq_helper\n",
    "from pandas.io.json import json_normalize\n",
    "\n",
    "# pandas / plt options\n",
    "pd.options.display.max_columns = 999\n",
    "plt.rcParams['figure.figsize'] = (14, 7)\n",
    "font = {'family' : 'verdana',\n",
    "        'weight' : 'bold',\n",
    "        'size'   : 14}\n",
    "plt.rc('font', **font)\n",
    "\n",
    "# remove warnings\n",
    "import warnings\n",
    "warnings.simplefilter(\"ignore\")\n",
    "\n",
    "from tqdm import tqdm_notebook as tqdm\n",
    "from tqdm import tqdm\n",
    "tqdm.pandas()\n",
    "\n",
    "# garbage collector\n",
    "import gc\n",
    "gc.enable()"
   ]
  },
  {
   "cell_type": "markdown",
   "metadata": {
    "_uuid": "dbc90dc52990c378a98005c2e07b8acc9a48e820"
   },
   "source": [
    "# Loading data"
   ]
  },
  {
   "cell_type": "code",
   "execution_count": 2,
   "metadata": {},
   "outputs": [],
   "source": [
    "# https://www.kaggle.com/julian3833/1-quick-start-read-csv-and-flatten-json-fields\n",
    "input_file_path = '/Users/rick/Dropbox/python_projects/data_science/Kaggle/GA_customer_revenue_prediction/input'\n",
    "\n",
    "def load_df(csv_path=input_file_path + '/train.csv', JSON_COLUMNS = ['device', 'geoNetwork', 'totals', 'trafficSource'], load_all=False):\n",
    "    if not load_all:\n",
    "        df = pd.read_csv(csv_path, \n",
    "                         converters={column: json.loads for column in JSON_COLUMNS}, \n",
    "                         dtype={'fullVisitorId': 'str'}, nrows=300000)\n",
    "    else:\n",
    "        df = pd.read_csv(csv_path, \n",
    "                         converters={column: json.loads for column in JSON_COLUMNS}, \n",
    "                         dtype={'fullVisitorId': 'str'})\n",
    "    \n",
    "    for column in JSON_COLUMNS:\n",
    "        column_as_df = json_normalize(df[column])\n",
    "        column_as_df.columns = [f\"{column}.{subcolumn}\" for subcolumn in column_as_df.columns]\n",
    "        df = df.drop(column, axis=1).merge(column_as_df, right_index=True, left_index=True)\n",
    "\n",
    "    return df"
   ]
  },
  {
   "cell_type": "code",
   "execution_count": 3,
   "metadata": {},
   "outputs": [
    {
     "name": "stdout",
     "output_type": "stream",
     "text": [
      "CPU times: user 60 s, sys: 3.62 s, total: 1min 3s\n",
      "Wall time: 1min 3s\n"
     ]
    }
   ],
   "source": [
    "%%time\n",
    "train = load_df(input_file_path + \"/train_v2.csv.zip\")"
   ]
  },
  {
   "cell_type": "code",
   "execution_count": 4,
   "metadata": {},
   "outputs": [
    {
     "name": "stdout",
     "output_type": "stream",
     "text": [
      "CPU times: user 1min 36s, sys: 5.87 s, total: 1min 42s\n",
      "Wall time: 1min 43s\n"
     ]
    }
   ],
   "source": [
    "%%time\n",
    "test = load_df(input_file_path + \"/test_v2.csv.zip\", load_all=True)"
   ]
  },
  {
   "cell_type": "code",
   "execution_count": 5,
   "metadata": {},
   "outputs": [
    {
     "ename": "KeyError",
     "evalue": "'totals'",
     "output_type": "error",
     "traceback": [
      "\u001b[0;31m---------------------------------------------------------------------------\u001b[0m",
      "\u001b[0;31mKeyError\u001b[0m                                  Traceback (most recent call last)",
      "\u001b[0;32m~/anaconda3/lib/python3.6/site-packages/pandas/core/indexes/base.py\u001b[0m in \u001b[0;36mget_loc\u001b[0;34m(self, key, method, tolerance)\u001b[0m\n\u001b[1;32m   3062\u001b[0m             \u001b[0;32mtry\u001b[0m\u001b[0;34m:\u001b[0m\u001b[0;34m\u001b[0m\u001b[0m\n\u001b[0;32m-> 3063\u001b[0;31m                 \u001b[0;32mreturn\u001b[0m \u001b[0mself\u001b[0m\u001b[0;34m.\u001b[0m\u001b[0m_engine\u001b[0m\u001b[0;34m.\u001b[0m\u001b[0mget_loc\u001b[0m\u001b[0;34m(\u001b[0m\u001b[0mkey\u001b[0m\u001b[0;34m)\u001b[0m\u001b[0;34m\u001b[0m\u001b[0m\n\u001b[0m\u001b[1;32m   3064\u001b[0m             \u001b[0;32mexcept\u001b[0m \u001b[0mKeyError\u001b[0m\u001b[0;34m:\u001b[0m\u001b[0;34m\u001b[0m\u001b[0m\n",
      "\u001b[0;32mpandas/_libs/index.pyx\u001b[0m in \u001b[0;36mpandas._libs.index.IndexEngine.get_loc\u001b[0;34m()\u001b[0m\n",
      "\u001b[0;32mpandas/_libs/index.pyx\u001b[0m in \u001b[0;36mpandas._libs.index.IndexEngine.get_loc\u001b[0;34m()\u001b[0m\n",
      "\u001b[0;32mpandas/_libs/hashtable_class_helper.pxi\u001b[0m in \u001b[0;36mpandas._libs.hashtable.PyObjectHashTable.get_item\u001b[0;34m()\u001b[0m\n",
      "\u001b[0;32mpandas/_libs/hashtable_class_helper.pxi\u001b[0m in \u001b[0;36mpandas._libs.hashtable.PyObjectHashTable.get_item\u001b[0;34m()\u001b[0m\n",
      "\u001b[0;31mKeyError\u001b[0m: 'totals'",
      "\nDuring handling of the above exception, another exception occurred:\n",
      "\u001b[0;31mKeyError\u001b[0m                                  Traceback (most recent call last)",
      "\u001b[0;32m<ipython-input-5-e23201378b25>\u001b[0m in \u001b[0;36m<module>\u001b[0;34m()\u001b[0m\n\u001b[0;32m----> 1\u001b[0;31m \u001b[0mtest\u001b[0m\u001b[0;34m[\u001b[0m\u001b[0;34m'totals'\u001b[0m\u001b[0;34m]\u001b[0m\u001b[0;34m.\u001b[0m\u001b[0mapply\u001b[0m\u001b[0;34m(\u001b[0m\u001b[0;32mlambda\u001b[0m \u001b[0mt\u001b[0m\u001b[0;34m:\u001b[0m \u001b[0mfloat\u001b[0m\u001b[0;34m(\u001b[0m\u001b[0mdict\u001b[0m\u001b[0;34m(\u001b[0m\u001b[0meval\u001b[0m\u001b[0;34m(\u001b[0m\u001b[0mt\u001b[0m\u001b[0;34m)\u001b[0m\u001b[0;34m)\u001b[0m\u001b[0;34m[\u001b[0m\u001b[0;34m'transactionRevenue'\u001b[0m\u001b[0;34m]\u001b[0m\u001b[0;34m)\u001b[0m\u001b[0;34m)\u001b[0m\u001b[0;34m\u001b[0m\u001b[0m\n\u001b[0m",
      "\u001b[0;32m~/anaconda3/lib/python3.6/site-packages/pandas/core/frame.py\u001b[0m in \u001b[0;36m__getitem__\u001b[0;34m(self, key)\u001b[0m\n\u001b[1;32m   2683\u001b[0m             \u001b[0;32mreturn\u001b[0m \u001b[0mself\u001b[0m\u001b[0;34m.\u001b[0m\u001b[0m_getitem_multilevel\u001b[0m\u001b[0;34m(\u001b[0m\u001b[0mkey\u001b[0m\u001b[0;34m)\u001b[0m\u001b[0;34m\u001b[0m\u001b[0m\n\u001b[1;32m   2684\u001b[0m         \u001b[0;32melse\u001b[0m\u001b[0;34m:\u001b[0m\u001b[0;34m\u001b[0m\u001b[0m\n\u001b[0;32m-> 2685\u001b[0;31m             \u001b[0;32mreturn\u001b[0m \u001b[0mself\u001b[0m\u001b[0;34m.\u001b[0m\u001b[0m_getitem_column\u001b[0m\u001b[0;34m(\u001b[0m\u001b[0mkey\u001b[0m\u001b[0;34m)\u001b[0m\u001b[0;34m\u001b[0m\u001b[0m\n\u001b[0m\u001b[1;32m   2686\u001b[0m \u001b[0;34m\u001b[0m\u001b[0m\n\u001b[1;32m   2687\u001b[0m     \u001b[0;32mdef\u001b[0m \u001b[0m_getitem_column\u001b[0m\u001b[0;34m(\u001b[0m\u001b[0mself\u001b[0m\u001b[0;34m,\u001b[0m \u001b[0mkey\u001b[0m\u001b[0;34m)\u001b[0m\u001b[0;34m:\u001b[0m\u001b[0;34m\u001b[0m\u001b[0m\n",
      "\u001b[0;32m~/anaconda3/lib/python3.6/site-packages/pandas/core/frame.py\u001b[0m in \u001b[0;36m_getitem_column\u001b[0;34m(self, key)\u001b[0m\n\u001b[1;32m   2690\u001b[0m         \u001b[0;31m# get column\u001b[0m\u001b[0;34m\u001b[0m\u001b[0;34m\u001b[0m\u001b[0m\n\u001b[1;32m   2691\u001b[0m         \u001b[0;32mif\u001b[0m \u001b[0mself\u001b[0m\u001b[0;34m.\u001b[0m\u001b[0mcolumns\u001b[0m\u001b[0;34m.\u001b[0m\u001b[0mis_unique\u001b[0m\u001b[0;34m:\u001b[0m\u001b[0;34m\u001b[0m\u001b[0m\n\u001b[0;32m-> 2692\u001b[0;31m             \u001b[0;32mreturn\u001b[0m \u001b[0mself\u001b[0m\u001b[0;34m.\u001b[0m\u001b[0m_get_item_cache\u001b[0m\u001b[0;34m(\u001b[0m\u001b[0mkey\u001b[0m\u001b[0;34m)\u001b[0m\u001b[0;34m\u001b[0m\u001b[0m\n\u001b[0m\u001b[1;32m   2693\u001b[0m \u001b[0;34m\u001b[0m\u001b[0m\n\u001b[1;32m   2694\u001b[0m         \u001b[0;31m# duplicate columns & possible reduce dimensionality\u001b[0m\u001b[0;34m\u001b[0m\u001b[0;34m\u001b[0m\u001b[0m\n",
      "\u001b[0;32m~/anaconda3/lib/python3.6/site-packages/pandas/core/generic.py\u001b[0m in \u001b[0;36m_get_item_cache\u001b[0;34m(self, item)\u001b[0m\n\u001b[1;32m   2484\u001b[0m         \u001b[0mres\u001b[0m \u001b[0;34m=\u001b[0m \u001b[0mcache\u001b[0m\u001b[0;34m.\u001b[0m\u001b[0mget\u001b[0m\u001b[0;34m(\u001b[0m\u001b[0mitem\u001b[0m\u001b[0;34m)\u001b[0m\u001b[0;34m\u001b[0m\u001b[0m\n\u001b[1;32m   2485\u001b[0m         \u001b[0;32mif\u001b[0m \u001b[0mres\u001b[0m \u001b[0;32mis\u001b[0m \u001b[0;32mNone\u001b[0m\u001b[0;34m:\u001b[0m\u001b[0;34m\u001b[0m\u001b[0m\n\u001b[0;32m-> 2486\u001b[0;31m             \u001b[0mvalues\u001b[0m \u001b[0;34m=\u001b[0m \u001b[0mself\u001b[0m\u001b[0;34m.\u001b[0m\u001b[0m_data\u001b[0m\u001b[0;34m.\u001b[0m\u001b[0mget\u001b[0m\u001b[0;34m(\u001b[0m\u001b[0mitem\u001b[0m\u001b[0;34m)\u001b[0m\u001b[0;34m\u001b[0m\u001b[0m\n\u001b[0m\u001b[1;32m   2487\u001b[0m             \u001b[0mres\u001b[0m \u001b[0;34m=\u001b[0m \u001b[0mself\u001b[0m\u001b[0;34m.\u001b[0m\u001b[0m_box_item_values\u001b[0m\u001b[0;34m(\u001b[0m\u001b[0mitem\u001b[0m\u001b[0;34m,\u001b[0m \u001b[0mvalues\u001b[0m\u001b[0;34m)\u001b[0m\u001b[0;34m\u001b[0m\u001b[0m\n\u001b[1;32m   2488\u001b[0m             \u001b[0mcache\u001b[0m\u001b[0;34m[\u001b[0m\u001b[0mitem\u001b[0m\u001b[0;34m]\u001b[0m \u001b[0;34m=\u001b[0m \u001b[0mres\u001b[0m\u001b[0;34m\u001b[0m\u001b[0m\n",
      "\u001b[0;32m~/anaconda3/lib/python3.6/site-packages/pandas/core/internals.py\u001b[0m in \u001b[0;36mget\u001b[0;34m(self, item, fastpath)\u001b[0m\n\u001b[1;32m   4113\u001b[0m \u001b[0;34m\u001b[0m\u001b[0m\n\u001b[1;32m   4114\u001b[0m             \u001b[0;32mif\u001b[0m \u001b[0;32mnot\u001b[0m \u001b[0misna\u001b[0m\u001b[0;34m(\u001b[0m\u001b[0mitem\u001b[0m\u001b[0;34m)\u001b[0m\u001b[0;34m:\u001b[0m\u001b[0;34m\u001b[0m\u001b[0m\n\u001b[0;32m-> 4115\u001b[0;31m                 \u001b[0mloc\u001b[0m \u001b[0;34m=\u001b[0m \u001b[0mself\u001b[0m\u001b[0;34m.\u001b[0m\u001b[0mitems\u001b[0m\u001b[0;34m.\u001b[0m\u001b[0mget_loc\u001b[0m\u001b[0;34m(\u001b[0m\u001b[0mitem\u001b[0m\u001b[0;34m)\u001b[0m\u001b[0;34m\u001b[0m\u001b[0m\n\u001b[0m\u001b[1;32m   4116\u001b[0m             \u001b[0;32melse\u001b[0m\u001b[0;34m:\u001b[0m\u001b[0;34m\u001b[0m\u001b[0m\n\u001b[1;32m   4117\u001b[0m                 \u001b[0mindexer\u001b[0m \u001b[0;34m=\u001b[0m \u001b[0mnp\u001b[0m\u001b[0;34m.\u001b[0m\u001b[0marange\u001b[0m\u001b[0;34m(\u001b[0m\u001b[0mlen\u001b[0m\u001b[0;34m(\u001b[0m\u001b[0mself\u001b[0m\u001b[0;34m.\u001b[0m\u001b[0mitems\u001b[0m\u001b[0;34m)\u001b[0m\u001b[0;34m)\u001b[0m\u001b[0;34m[\u001b[0m\u001b[0misna\u001b[0m\u001b[0;34m(\u001b[0m\u001b[0mself\u001b[0m\u001b[0;34m.\u001b[0m\u001b[0mitems\u001b[0m\u001b[0;34m)\u001b[0m\u001b[0;34m]\u001b[0m\u001b[0;34m\u001b[0m\u001b[0m\n",
      "\u001b[0;32m~/anaconda3/lib/python3.6/site-packages/pandas/core/indexes/base.py\u001b[0m in \u001b[0;36mget_loc\u001b[0;34m(self, key, method, tolerance)\u001b[0m\n\u001b[1;32m   3063\u001b[0m                 \u001b[0;32mreturn\u001b[0m \u001b[0mself\u001b[0m\u001b[0;34m.\u001b[0m\u001b[0m_engine\u001b[0m\u001b[0;34m.\u001b[0m\u001b[0mget_loc\u001b[0m\u001b[0;34m(\u001b[0m\u001b[0mkey\u001b[0m\u001b[0;34m)\u001b[0m\u001b[0;34m\u001b[0m\u001b[0m\n\u001b[1;32m   3064\u001b[0m             \u001b[0;32mexcept\u001b[0m \u001b[0mKeyError\u001b[0m\u001b[0;34m:\u001b[0m\u001b[0;34m\u001b[0m\u001b[0m\n\u001b[0;32m-> 3065\u001b[0;31m                 \u001b[0;32mreturn\u001b[0m \u001b[0mself\u001b[0m\u001b[0;34m.\u001b[0m\u001b[0m_engine\u001b[0m\u001b[0;34m.\u001b[0m\u001b[0mget_loc\u001b[0m\u001b[0;34m(\u001b[0m\u001b[0mself\u001b[0m\u001b[0;34m.\u001b[0m\u001b[0m_maybe_cast_indexer\u001b[0m\u001b[0;34m(\u001b[0m\u001b[0mkey\u001b[0m\u001b[0;34m)\u001b[0m\u001b[0;34m)\u001b[0m\u001b[0;34m\u001b[0m\u001b[0m\n\u001b[0m\u001b[1;32m   3066\u001b[0m \u001b[0;34m\u001b[0m\u001b[0m\n\u001b[1;32m   3067\u001b[0m         \u001b[0mindexer\u001b[0m \u001b[0;34m=\u001b[0m \u001b[0mself\u001b[0m\u001b[0;34m.\u001b[0m\u001b[0mget_indexer\u001b[0m\u001b[0;34m(\u001b[0m\u001b[0;34m[\u001b[0m\u001b[0mkey\u001b[0m\u001b[0;34m]\u001b[0m\u001b[0;34m,\u001b[0m \u001b[0mmethod\u001b[0m\u001b[0;34m=\u001b[0m\u001b[0mmethod\u001b[0m\u001b[0;34m,\u001b[0m \u001b[0mtolerance\u001b[0m\u001b[0;34m=\u001b[0m\u001b[0mtolerance\u001b[0m\u001b[0;34m)\u001b[0m\u001b[0;34m\u001b[0m\u001b[0m\n",
      "\u001b[0;32mpandas/_libs/index.pyx\u001b[0m in \u001b[0;36mpandas._libs.index.IndexEngine.get_loc\u001b[0;34m()\u001b[0m\n",
      "\u001b[0;32mpandas/_libs/index.pyx\u001b[0m in \u001b[0;36mpandas._libs.index.IndexEngine.get_loc\u001b[0;34m()\u001b[0m\n",
      "\u001b[0;32mpandas/_libs/hashtable_class_helper.pxi\u001b[0m in \u001b[0;36mpandas._libs.hashtable.PyObjectHashTable.get_item\u001b[0;34m()\u001b[0m\n",
      "\u001b[0;32mpandas/_libs/hashtable_class_helper.pxi\u001b[0m in \u001b[0;36mpandas._libs.hashtable.PyObjectHashTable.get_item\u001b[0;34m()\u001b[0m\n",
      "\u001b[0;31mKeyError\u001b[0m: 'totals'"
     ]
    }
   ],
   "source": [
    "# test['totals'].apply(lambda t: float(dict(eval(t))['transactionRevenue']))"
   ]
  },
  {
   "cell_type": "code",
   "execution_count": 6,
   "metadata": {
    "ExecuteTime": {
     "end_time": "2018-10-14T10:14:30.396606Z",
     "start_time": "2018-10-14T10:14:30.299663Z"
    },
    "_uuid": "7001881e9cdfc9638e1e168ce1a97ffa1a6ee437"
   },
   "outputs": [
    {
     "data": {
      "text/plain": [
       "Index(['channelGrouping', 'customDimensions', 'date', 'fullVisitorId', 'hits',\n",
       "       'socialEngagementType', 'visitId', 'visitNumber', 'visitStartTime',\n",
       "       'device.browser', 'device.browserSize', 'device.browserVersion',\n",
       "       'device.deviceCategory', 'device.flashVersion', 'device.isMobile',\n",
       "       'device.language', 'device.mobileDeviceBranding',\n",
       "       'device.mobileDeviceInfo', 'device.mobileDeviceMarketingName',\n",
       "       'device.mobileDeviceModel', 'device.mobileInputSelector',\n",
       "       'device.operatingSystem', 'device.operatingSystemVersion',\n",
       "       'device.screenColors', 'device.screenResolution', 'geoNetwork.city',\n",
       "       'geoNetwork.cityId', 'geoNetwork.continent', 'geoNetwork.country',\n",
       "       'geoNetwork.latitude', 'geoNetwork.longitude', 'geoNetwork.metro',\n",
       "       'geoNetwork.networkDomain', 'geoNetwork.networkLocation',\n",
       "       'geoNetwork.region', 'geoNetwork.subContinent', 'totals.bounces',\n",
       "       'totals.hits', 'totals.newVisits', 'totals.pageviews',\n",
       "       'totals.sessionQualityDim', 'totals.timeOnSite',\n",
       "       'totals.totalTransactionRevenue', 'totals.transactionRevenue',\n",
       "       'totals.transactions', 'totals.visits', 'trafficSource.adContent',\n",
       "       'trafficSource.adwordsClickInfo.adNetworkType',\n",
       "       'trafficSource.adwordsClickInfo.criteriaParameters',\n",
       "       'trafficSource.adwordsClickInfo.gclId',\n",
       "       'trafficSource.adwordsClickInfo.isVideoAd',\n",
       "       'trafficSource.adwordsClickInfo.page',\n",
       "       'trafficSource.adwordsClickInfo.slot', 'trafficSource.campaign',\n",
       "       'trafficSource.campaignCode', 'trafficSource.isTrueDirect',\n",
       "       'trafficSource.keyword', 'trafficSource.medium',\n",
       "       'trafficSource.referralPath', 'trafficSource.source'],\n",
       "      dtype='object')"
      ]
     },
     "execution_count": 6,
     "metadata": {},
     "output_type": "execute_result"
    }
   ],
   "source": [
    "train.columns"
   ]
  },
  {
   "cell_type": "code",
   "execution_count": 7,
   "metadata": {
    "ExecuteTime": {
     "end_time": "2018-10-14T10:14:36.452308Z",
     "start_time": "2018-10-14T10:14:36.447328Z"
    },
    "_uuid": "84b797e0506d46d08c178c42495cae71a4dbdf1b"
   },
   "outputs": [
    {
     "data": {
      "text/plain": [
       "Index(['channelGrouping', 'customDimensions', 'date', 'fullVisitorId', 'hits',\n",
       "       'socialEngagementType', 'visitId', 'visitNumber', 'visitStartTime',\n",
       "       'device.browser', 'device.browserSize', 'device.browserVersion',\n",
       "       'device.deviceCategory', 'device.flashVersion', 'device.isMobile',\n",
       "       'device.language', 'device.mobileDeviceBranding',\n",
       "       'device.mobileDeviceInfo', 'device.mobileDeviceMarketingName',\n",
       "       'device.mobileDeviceModel', 'device.mobileInputSelector',\n",
       "       'device.operatingSystem', 'device.operatingSystemVersion',\n",
       "       'device.screenColors', 'device.screenResolution', 'geoNetwork.city',\n",
       "       'geoNetwork.cityId', 'geoNetwork.continent', 'geoNetwork.country',\n",
       "       'geoNetwork.latitude', 'geoNetwork.longitude', 'geoNetwork.metro',\n",
       "       'geoNetwork.networkDomain', 'geoNetwork.networkLocation',\n",
       "       'geoNetwork.region', 'geoNetwork.subContinent', 'totals.bounces',\n",
       "       'totals.hits', 'totals.newVisits', 'totals.pageviews',\n",
       "       'totals.sessionQualityDim', 'totals.timeOnSite',\n",
       "       'totals.totalTransactionRevenue', 'totals.transactionRevenue',\n",
       "       'totals.transactions', 'totals.visits', 'trafficSource.adContent',\n",
       "       'trafficSource.adwordsClickInfo.adNetworkType',\n",
       "       'trafficSource.adwordsClickInfo.criteriaParameters',\n",
       "       'trafficSource.adwordsClickInfo.gclId',\n",
       "       'trafficSource.adwordsClickInfo.isVideoAd',\n",
       "       'trafficSource.adwordsClickInfo.page',\n",
       "       'trafficSource.adwordsClickInfo.slot', 'trafficSource.campaign',\n",
       "       'trafficSource.campaignCode', 'trafficSource.isTrueDirect',\n",
       "       'trafficSource.keyword', 'trafficSource.medium',\n",
       "       'trafficSource.referralPath', 'trafficSource.source'],\n",
       "      dtype='object')"
      ]
     },
     "execution_count": 7,
     "metadata": {},
     "output_type": "execute_result"
    }
   ],
   "source": [
    "train.columns"
   ]
  },
  {
   "cell_type": "code",
   "execution_count": 9,
   "metadata": {
    "ExecuteTime": {
     "end_time": "2018-10-14T10:14:37.910365Z",
     "start_time": "2018-10-14T10:14:36.608218Z"
    },
    "_uuid": "acd4760138ba9a70f2341d5f51395afcce94fea0"
   },
   "outputs": [],
   "source": [
    "# some data processing\n",
    "train['trafficSource.adwordsClickInfo.isVideoAd'].fillna(True, inplace=True)\n",
    "test['trafficSource.adwordsClickInfo.isVideoAd'].fillna(True, inplace=True)\n",
    "train['trafficSource.isTrueDirect'].fillna(False, inplace=True)\n",
    "test['trafficSource.isTrueDirect'].fillna(False, inplace=True)\n",
    "\n",
    "train['date'] = pd.to_datetime(train['date'].apply(lambda x: str(x)[:4] + '-' + str(x)[4:6] + '-' + str(x)[6:]))\n",
    "test['date'] = pd.to_datetime(test['date'].apply(lambda x: str(x)[:4] + '-' + str(x)[4:6] + '-' + str(x)[6:]))"
   ]
  },
  {
   "cell_type": "code",
   "execution_count": 10,
   "metadata": {
    "ExecuteTime": {
     "end_time": "2018-10-14T10:14:37.956337Z",
     "start_time": "2018-10-14T10:14:37.911363Z"
    },
    "_uuid": "41c897be1747a5e6e90b54ea1307993870f3aa3d"
   },
   "outputs": [
    {
     "name": "stdout",
     "output_type": "stream",
     "text": [
      "Dropped 19 columns.\n"
     ]
    }
   ],
   "source": [
    "cols_to_drop = [col for col in train.columns if train[col].nunique(dropna=False) == 1]\n",
    "train.drop(cols_to_drop, axis=1, inplace=True)\n",
    "test.drop([col for col in cols_to_drop if col in test.columns], axis=1, inplace=True)\n",
    "\n",
    "#only one not null value\n",
    "# train.drop(['trafficSource.campaignCode'], axis=1, inplace=True)\n",
    "# test.drop(['trafficSource.campaignCode'], axis=1, inplace=True)\n",
    "\n",
    "print(f'Dropped {len(cols_to_drop)} columns.')"
   ]
  },
  {
   "cell_type": "code",
   "execution_count": 11,
   "metadata": {},
   "outputs": [
    {
     "data": {
      "text/html": [
       "<div>\n",
       "<style scoped>\n",
       "    .dataframe tbody tr th:only-of-type {\n",
       "        vertical-align: middle;\n",
       "    }\n",
       "\n",
       "    .dataframe tbody tr th {\n",
       "        vertical-align: top;\n",
       "    }\n",
       "\n",
       "    .dataframe thead th {\n",
       "        text-align: right;\n",
       "    }\n",
       "</style>\n",
       "<table border=\"1\" class=\"dataframe\">\n",
       "  <thead>\n",
       "    <tr style=\"text-align: right;\">\n",
       "      <th></th>\n",
       "      <th>channelGrouping</th>\n",
       "      <th>customDimensions</th>\n",
       "      <th>date</th>\n",
       "      <th>fullVisitorId</th>\n",
       "      <th>hits</th>\n",
       "      <th>visitId</th>\n",
       "      <th>visitNumber</th>\n",
       "      <th>visitStartTime</th>\n",
       "      <th>device.browser</th>\n",
       "      <th>device.deviceCategory</th>\n",
       "      <th>device.isMobile</th>\n",
       "      <th>device.operatingSystem</th>\n",
       "      <th>geoNetwork.city</th>\n",
       "      <th>geoNetwork.continent</th>\n",
       "      <th>geoNetwork.country</th>\n",
       "      <th>geoNetwork.metro</th>\n",
       "      <th>geoNetwork.networkDomain</th>\n",
       "      <th>geoNetwork.region</th>\n",
       "      <th>geoNetwork.subContinent</th>\n",
       "      <th>totals.bounces</th>\n",
       "      <th>totals.hits</th>\n",
       "      <th>totals.newVisits</th>\n",
       "      <th>totals.pageviews</th>\n",
       "      <th>totals.sessionQualityDim</th>\n",
       "      <th>totals.timeOnSite</th>\n",
       "      <th>totals.totalTransactionRevenue</th>\n",
       "      <th>totals.transactionRevenue</th>\n",
       "      <th>totals.transactions</th>\n",
       "      <th>trafficSource.adContent</th>\n",
       "      <th>trafficSource.adwordsClickInfo.adNetworkType</th>\n",
       "      <th>trafficSource.adwordsClickInfo.gclId</th>\n",
       "      <th>trafficSource.adwordsClickInfo.isVideoAd</th>\n",
       "      <th>trafficSource.adwordsClickInfo.page</th>\n",
       "      <th>trafficSource.adwordsClickInfo.slot</th>\n",
       "      <th>trafficSource.campaign</th>\n",
       "      <th>trafficSource.isTrueDirect</th>\n",
       "      <th>trafficSource.keyword</th>\n",
       "      <th>trafficSource.medium</th>\n",
       "      <th>trafficSource.referralPath</th>\n",
       "      <th>trafficSource.source</th>\n",
       "    </tr>\n",
       "  </thead>\n",
       "  <tbody>\n",
       "    <tr>\n",
       "      <th>0</th>\n",
       "      <td>Organic Search</td>\n",
       "      <td>[{'index': '4', 'value': 'APAC'}]</td>\n",
       "      <td>2018-05-11</td>\n",
       "      <td>7460955084541987166</td>\n",
       "      <td>[{'hitNumber': '1', 'time': '0', 'hour': '21',...</td>\n",
       "      <td>1526099341</td>\n",
       "      <td>2</td>\n",
       "      <td>1526099341</td>\n",
       "      <td>Chrome</td>\n",
       "      <td>mobile</td>\n",
       "      <td>True</td>\n",
       "      <td>Android</td>\n",
       "      <td>(not set)</td>\n",
       "      <td>Asia</td>\n",
       "      <td>India</td>\n",
       "      <td>(not set)</td>\n",
       "      <td>unknown.unknown</td>\n",
       "      <td>Delhi</td>\n",
       "      <td>Southern Asia</td>\n",
       "      <td>NaN</td>\n",
       "      <td>4</td>\n",
       "      <td>NaN</td>\n",
       "      <td>3</td>\n",
       "      <td>1</td>\n",
       "      <td>973</td>\n",
       "      <td>NaN</td>\n",
       "      <td>NaN</td>\n",
       "      <td>NaN</td>\n",
       "      <td>(not set)</td>\n",
       "      <td>NaN</td>\n",
       "      <td>NaN</td>\n",
       "      <td>True</td>\n",
       "      <td>NaN</td>\n",
       "      <td>NaN</td>\n",
       "      <td>(not set)</td>\n",
       "      <td>True</td>\n",
       "      <td>(not provided)</td>\n",
       "      <td>organic</td>\n",
       "      <td>(not set)</td>\n",
       "      <td>google</td>\n",
       "    </tr>\n",
       "    <tr>\n",
       "      <th>1</th>\n",
       "      <td>Direct</td>\n",
       "      <td>[{'index': '4', 'value': 'North America'}]</td>\n",
       "      <td>2018-05-11</td>\n",
       "      <td>460252456180441002</td>\n",
       "      <td>[{'hitNumber': '1', 'time': '0', 'hour': '11',...</td>\n",
       "      <td>1526064483</td>\n",
       "      <td>166</td>\n",
       "      <td>1526064483</td>\n",
       "      <td>Chrome</td>\n",
       "      <td>desktop</td>\n",
       "      <td>False</td>\n",
       "      <td>Macintosh</td>\n",
       "      <td>San Francisco</td>\n",
       "      <td>Americas</td>\n",
       "      <td>United States</td>\n",
       "      <td>San Francisco-Oakland-San Jose CA</td>\n",
       "      <td>(not set)</td>\n",
       "      <td>California</td>\n",
       "      <td>Northern America</td>\n",
       "      <td>NaN</td>\n",
       "      <td>4</td>\n",
       "      <td>NaN</td>\n",
       "      <td>3</td>\n",
       "      <td>1</td>\n",
       "      <td>49</td>\n",
       "      <td>NaN</td>\n",
       "      <td>NaN</td>\n",
       "      <td>NaN</td>\n",
       "      <td>(not set)</td>\n",
       "      <td>NaN</td>\n",
       "      <td>NaN</td>\n",
       "      <td>True</td>\n",
       "      <td>NaN</td>\n",
       "      <td>NaN</td>\n",
       "      <td>(not set)</td>\n",
       "      <td>True</td>\n",
       "      <td>(not set)</td>\n",
       "      <td>(none)</td>\n",
       "      <td>(not set)</td>\n",
       "      <td>(direct)</td>\n",
       "    </tr>\n",
       "    <tr>\n",
       "      <th>2</th>\n",
       "      <td>Organic Search</td>\n",
       "      <td>[{'index': '4', 'value': 'North America'}]</td>\n",
       "      <td>2018-05-11</td>\n",
       "      <td>3461808543879602873</td>\n",
       "      <td>[{'hitNumber': '1', 'time': '0', 'hour': '12',...</td>\n",
       "      <td>1526067157</td>\n",
       "      <td>2</td>\n",
       "      <td>1526067157</td>\n",
       "      <td>Chrome</td>\n",
       "      <td>desktop</td>\n",
       "      <td>False</td>\n",
       "      <td>Chrome OS</td>\n",
       "      <td>not available in demo dataset</td>\n",
       "      <td>Americas</td>\n",
       "      <td>United States</td>\n",
       "      <td>not available in demo dataset</td>\n",
       "      <td>onlinecomputerworks.com</td>\n",
       "      <td>not available in demo dataset</td>\n",
       "      <td>Northern America</td>\n",
       "      <td>NaN</td>\n",
       "      <td>4</td>\n",
       "      <td>NaN</td>\n",
       "      <td>3</td>\n",
       "      <td>1</td>\n",
       "      <td>24</td>\n",
       "      <td>NaN</td>\n",
       "      <td>NaN</td>\n",
       "      <td>NaN</td>\n",
       "      <td>(not set)</td>\n",
       "      <td>NaN</td>\n",
       "      <td>NaN</td>\n",
       "      <td>True</td>\n",
       "      <td>NaN</td>\n",
       "      <td>NaN</td>\n",
       "      <td>(not set)</td>\n",
       "      <td>True</td>\n",
       "      <td>(not provided)</td>\n",
       "      <td>organic</td>\n",
       "      <td>(not set)</td>\n",
       "      <td>google</td>\n",
       "    </tr>\n",
       "    <tr>\n",
       "      <th>3</th>\n",
       "      <td>Direct</td>\n",
       "      <td>[{'index': '4', 'value': 'North America'}]</td>\n",
       "      <td>2018-05-11</td>\n",
       "      <td>975129477712150630</td>\n",
       "      <td>[{'hitNumber': '1', 'time': '0', 'hour': '23',...</td>\n",
       "      <td>1526107551</td>\n",
       "      <td>4</td>\n",
       "      <td>1526107551</td>\n",
       "      <td>Chrome</td>\n",
       "      <td>mobile</td>\n",
       "      <td>True</td>\n",
       "      <td>iOS</td>\n",
       "      <td>Houston</td>\n",
       "      <td>Americas</td>\n",
       "      <td>United States</td>\n",
       "      <td>Houston TX</td>\n",
       "      <td>(not set)</td>\n",
       "      <td>Texas</td>\n",
       "      <td>Northern America</td>\n",
       "      <td>NaN</td>\n",
       "      <td>5</td>\n",
       "      <td>NaN</td>\n",
       "      <td>4</td>\n",
       "      <td>1</td>\n",
       "      <td>25</td>\n",
       "      <td>NaN</td>\n",
       "      <td>NaN</td>\n",
       "      <td>NaN</td>\n",
       "      <td>(not set)</td>\n",
       "      <td>NaN</td>\n",
       "      <td>NaN</td>\n",
       "      <td>True</td>\n",
       "      <td>NaN</td>\n",
       "      <td>NaN</td>\n",
       "      <td>(not set)</td>\n",
       "      <td>True</td>\n",
       "      <td>(not set)</td>\n",
       "      <td>(none)</td>\n",
       "      <td>(not set)</td>\n",
       "      <td>(direct)</td>\n",
       "    </tr>\n",
       "    <tr>\n",
       "      <th>4</th>\n",
       "      <td>Organic Search</td>\n",
       "      <td>[{'index': '4', 'value': 'North America'}]</td>\n",
       "      <td>2018-05-11</td>\n",
       "      <td>8381672768065729990</td>\n",
       "      <td>[{'hitNumber': '1', 'time': '0', 'hour': '10',...</td>\n",
       "      <td>1526060254</td>\n",
       "      <td>1</td>\n",
       "      <td>1526060254</td>\n",
       "      <td>Internet Explorer</td>\n",
       "      <td>tablet</td>\n",
       "      <td>True</td>\n",
       "      <td>Windows</td>\n",
       "      <td>Irvine</td>\n",
       "      <td>Americas</td>\n",
       "      <td>United States</td>\n",
       "      <td>Los Angeles CA</td>\n",
       "      <td>com</td>\n",
       "      <td>California</td>\n",
       "      <td>Northern America</td>\n",
       "      <td>NaN</td>\n",
       "      <td>5</td>\n",
       "      <td>1</td>\n",
       "      <td>4</td>\n",
       "      <td>1</td>\n",
       "      <td>49</td>\n",
       "      <td>NaN</td>\n",
       "      <td>NaN</td>\n",
       "      <td>NaN</td>\n",
       "      <td>(not set)</td>\n",
       "      <td>NaN</td>\n",
       "      <td>NaN</td>\n",
       "      <td>True</td>\n",
       "      <td>NaN</td>\n",
       "      <td>NaN</td>\n",
       "      <td>(not set)</td>\n",
       "      <td>False</td>\n",
       "      <td>(not provided)</td>\n",
       "      <td>organic</td>\n",
       "      <td>(not set)</td>\n",
       "      <td>google</td>\n",
       "    </tr>\n",
       "  </tbody>\n",
       "</table>\n",
       "</div>"
      ],
      "text/plain": [
       "  channelGrouping                            customDimensions       date  \\\n",
       "0  Organic Search           [{'index': '4', 'value': 'APAC'}] 2018-05-11   \n",
       "1          Direct  [{'index': '4', 'value': 'North America'}] 2018-05-11   \n",
       "2  Organic Search  [{'index': '4', 'value': 'North America'}] 2018-05-11   \n",
       "3          Direct  [{'index': '4', 'value': 'North America'}] 2018-05-11   \n",
       "4  Organic Search  [{'index': '4', 'value': 'North America'}] 2018-05-11   \n",
       "\n",
       "         fullVisitorId                                               hits  \\\n",
       "0  7460955084541987166  [{'hitNumber': '1', 'time': '0', 'hour': '21',...   \n",
       "1   460252456180441002  [{'hitNumber': '1', 'time': '0', 'hour': '11',...   \n",
       "2  3461808543879602873  [{'hitNumber': '1', 'time': '0', 'hour': '12',...   \n",
       "3   975129477712150630  [{'hitNumber': '1', 'time': '0', 'hour': '23',...   \n",
       "4  8381672768065729990  [{'hitNumber': '1', 'time': '0', 'hour': '10',...   \n",
       "\n",
       "      visitId  visitNumber  visitStartTime     device.browser  \\\n",
       "0  1526099341            2      1526099341             Chrome   \n",
       "1  1526064483          166      1526064483             Chrome   \n",
       "2  1526067157            2      1526067157             Chrome   \n",
       "3  1526107551            4      1526107551             Chrome   \n",
       "4  1526060254            1      1526060254  Internet Explorer   \n",
       "\n",
       "  device.deviceCategory  device.isMobile device.operatingSystem  \\\n",
       "0                mobile             True                Android   \n",
       "1               desktop            False              Macintosh   \n",
       "2               desktop            False              Chrome OS   \n",
       "3                mobile             True                    iOS   \n",
       "4                tablet             True                Windows   \n",
       "\n",
       "                 geoNetwork.city geoNetwork.continent geoNetwork.country  \\\n",
       "0                      (not set)                 Asia              India   \n",
       "1                  San Francisco             Americas      United States   \n",
       "2  not available in demo dataset             Americas      United States   \n",
       "3                        Houston             Americas      United States   \n",
       "4                         Irvine             Americas      United States   \n",
       "\n",
       "                    geoNetwork.metro geoNetwork.networkDomain  \\\n",
       "0                          (not set)          unknown.unknown   \n",
       "1  San Francisco-Oakland-San Jose CA                (not set)   \n",
       "2      not available in demo dataset  onlinecomputerworks.com   \n",
       "3                         Houston TX                (not set)   \n",
       "4                     Los Angeles CA                      com   \n",
       "\n",
       "               geoNetwork.region geoNetwork.subContinent totals.bounces  \\\n",
       "0                          Delhi           Southern Asia            NaN   \n",
       "1                     California        Northern America            NaN   \n",
       "2  not available in demo dataset        Northern America            NaN   \n",
       "3                          Texas        Northern America            NaN   \n",
       "4                     California        Northern America            NaN   \n",
       "\n",
       "  totals.hits totals.newVisits totals.pageviews totals.sessionQualityDim  \\\n",
       "0           4              NaN                3                        1   \n",
       "1           4              NaN                3                        1   \n",
       "2           4              NaN                3                        1   \n",
       "3           5              NaN                4                        1   \n",
       "4           5                1                4                        1   \n",
       "\n",
       "  totals.timeOnSite totals.totalTransactionRevenue totals.transactionRevenue  \\\n",
       "0               973                            NaN                       NaN   \n",
       "1                49                            NaN                       NaN   \n",
       "2                24                            NaN                       NaN   \n",
       "3                25                            NaN                       NaN   \n",
       "4                49                            NaN                       NaN   \n",
       "\n",
       "  totals.transactions trafficSource.adContent  \\\n",
       "0                 NaN               (not set)   \n",
       "1                 NaN               (not set)   \n",
       "2                 NaN               (not set)   \n",
       "3                 NaN               (not set)   \n",
       "4                 NaN               (not set)   \n",
       "\n",
       "  trafficSource.adwordsClickInfo.adNetworkType  \\\n",
       "0                                          NaN   \n",
       "1                                          NaN   \n",
       "2                                          NaN   \n",
       "3                                          NaN   \n",
       "4                                          NaN   \n",
       "\n",
       "  trafficSource.adwordsClickInfo.gclId  \\\n",
       "0                                  NaN   \n",
       "1                                  NaN   \n",
       "2                                  NaN   \n",
       "3                                  NaN   \n",
       "4                                  NaN   \n",
       "\n",
       "   trafficSource.adwordsClickInfo.isVideoAd  \\\n",
       "0                                      True   \n",
       "1                                      True   \n",
       "2                                      True   \n",
       "3                                      True   \n",
       "4                                      True   \n",
       "\n",
       "  trafficSource.adwordsClickInfo.page trafficSource.adwordsClickInfo.slot  \\\n",
       "0                                 NaN                                 NaN   \n",
       "1                                 NaN                                 NaN   \n",
       "2                                 NaN                                 NaN   \n",
       "3                                 NaN                                 NaN   \n",
       "4                                 NaN                                 NaN   \n",
       "\n",
       "  trafficSource.campaign  trafficSource.isTrueDirect trafficSource.keyword  \\\n",
       "0              (not set)                        True        (not provided)   \n",
       "1              (not set)                        True             (not set)   \n",
       "2              (not set)                        True        (not provided)   \n",
       "3              (not set)                        True             (not set)   \n",
       "4              (not set)                       False        (not provided)   \n",
       "\n",
       "  trafficSource.medium trafficSource.referralPath trafficSource.source  \n",
       "0              organic                  (not set)               google  \n",
       "1               (none)                  (not set)             (direct)  \n",
       "2              organic                  (not set)               google  \n",
       "3               (none)                  (not set)             (direct)  \n",
       "4              organic                  (not set)               google  "
      ]
     },
     "execution_count": 11,
     "metadata": {},
     "output_type": "execute_result"
    }
   ],
   "source": [
    "test.head()"
   ]
  },
  {
   "cell_type": "code",
   "execution_count": 12,
   "metadata": {},
   "outputs": [],
   "source": [
    "# converting columns into more reasonable format\n",
    "for col in ['visitNumber', 'totals.hits', 'totals.pageviews', 'totals.transactionRevenue']:\n",
    "    train[col] = train[col].astype(float)"
   ]
  },
  {
   "cell_type": "code",
   "execution_count": 13,
   "metadata": {},
   "outputs": [],
   "source": [
    "train.drop(['customDimensions', 'hits', 'trafficSource.referralPath', 'trafficSource.source', 'totals.totalTransactionRevenue'], axis=1, inplace=True)\n",
    "test.drop(['customDimensions', 'hits', 'trafficSource.referralPath', 'trafficSource.source', 'totals.totalTransactionRevenue'], axis=1, inplace=True)"
   ]
  },
  {
   "cell_type": "code",
   "execution_count": 14,
   "metadata": {},
   "outputs": [
    {
     "name": "stdout",
     "output_type": "stream",
     "text": [
      "Column geoNetwork.city has 54.5520% values not available in dataset.\n",
      "Column geoNetwork.metro has 54.5520% values not available in dataset.\n",
      "Column geoNetwork.region has 54.5520% values not available in dataset.\n",
      "Column totals.bounces has 48.4557% missing values.\n",
      "Column totals.newVisits has 22.8260% missing values.\n",
      "Column totals.pageviews has 0.0130% missing values.\n",
      "Column totals.sessionQualityDim has 53.3087% missing values.\n",
      "Column totals.timeOnSite has 51.7020% missing values.\n",
      "Column totals.transactionRevenue has 98.9487% missing values.\n",
      "Column totals.transactions has 98.9443% missing values.\n",
      "Column trafficSource.adContent has 96.0480% missing values.\n",
      "Column trafficSource.adwordsClickInfo.adNetworkType has 95.3547% missing values.\n",
      "Column trafficSource.adwordsClickInfo.gclId has 95.3353% missing values.\n",
      "Column trafficSource.adwordsClickInfo.page has 95.3547% missing values.\n",
      "Column trafficSource.adwordsClickInfo.slot has 95.3547% missing values.\n",
      "Column trafficSource.campaignCode has 99.9997% missing values.\n",
      "Column trafficSource.keyword has 64.9880% missing values.\n"
     ]
    }
   ],
   "source": [
    "for col in train.columns:\n",
    "    if train[col].isnull().sum() > 0:\n",
    "        rate = train[col].isnull().sum() * 100 / train.shape[0]\n",
    "        print(f'Column {col} has {rate:.4f}% missing values.')\n",
    "    if train[col].dtype == 'object':\n",
    "        if (train[col] == 'not available in demo dataset').sum() > 0:\n",
    "            rate = (train[col] == 'not available in demo dataset').sum() * 100 / train.shape[0]\n",
    "            print(f'Column {col} has {rate:.4f}% values not available in dataset.')"
   ]
  },
  {
   "cell_type": "markdown",
   "metadata": {
    "_uuid": "119d7b06bb71fb519a943d0c11e447a170d916bb",
    "heading_collapsed": true
   },
   "source": [
    "# Looking around"
   ]
  },
  {
   "cell_type": "markdown",
   "metadata": {
    "_uuid": "21f6e7a41c2316f62138cf9349c341d6ca3ad8a3",
    "hidden": true
   },
   "source": [
    "Some pictures to have in mind: target distribution"
   ]
  },
  {
   "cell_type": "code",
   "execution_count": 15,
   "metadata": {
    "ExecuteTime": {
     "end_time": "2018-10-14T10:14:39.624803Z",
     "start_time": "2018-10-14T10:14:37.957337Z"
    },
    "_uuid": "328715e736f64240b00cd7ee1a3fb69bb5cdcdc0",
    "hidden": true
   },
   "outputs": [],
   "source": [
    "target_sums = train.groupby(\"fullVisitorId\")[\"totals.transactionRevenue\"].sum().reset_index()"
   ]
  },
  {
   "cell_type": "code",
   "execution_count": 16,
   "metadata": {
    "ExecuteTime": {
     "end_time": "2018-10-14T10:14:44.420456Z",
     "start_time": "2018-10-14T10:14:39.625788Z"
    },
    "_uuid": "9a2625a3b7c28ac417ba1172f63d308e12dfd581",
    "hidden": true
   },
   "outputs": [
    {
     "data": {
      "image/png": "[encoded data removed]",
      "text/plain": [
       "<Figure size 432x288 with 1 Axes>"
      ]
     },
     "metadata": {},
     "output_type": "display_data"
    }
   ],
   "source": [
    "plt.scatter(range(target_sums.shape[0]), np.sort(np.log1p(target_sums[\"totals.transactionRevenue\"].values)))\n",
    "plt.xlabel('index')\n",
    "plt.ylabel('TransactionRevenue')\n",
    "plt.show()"
   ]
  },
  {
   "cell_type": "markdown",
   "metadata": {
    "ExecuteTime": {
     "end_time": "2018-10-07T17:19:33.369729Z",
     "start_time": "2018-10-07T17:19:33.366722Z"
    },
    "_uuid": "2721d8feb6f34473500c413e68d450a26cf248ff",
    "hidden": true
   },
   "source": [
    "Key problem:"
   ]
  },
  {
   "cell_type": "code",
   "execution_count": 17,
   "metadata": {
    "ExecuteTime": {
     "end_time": "2018-10-14T10:14:46.039836Z",
     "start_time": "2018-10-14T10:14:44.421442Z"
    },
    "_uuid": "df2413f1c01615949d9ca3e6be92c354a737975d",
    "hidden": true
   },
   "outputs": [
    {
     "data": {
      "text/plain": [
       "<matplotlib.legend.Legend at 0x1bd20d4278>"
      ]
     },
     "execution_count": 17,
     "metadata": {},
     "output_type": "execute_result"
    },
    {
     "data": {
      "image/png": "[encoded data removed]",
      "text/plain": [
       "<Figure size 432x288 with 1 Axes>"
      ]
     },
     "metadata": {},
     "output_type": "display_data"
    }
   ],
   "source": [
    "train.date = pd.to_datetime(train.date, format=\"%Y%m%d\")\n",
    "test.date = pd.to_datetime(test.date, format=\"%Y%m%d\")\n",
    "train.date.value_counts().sort_index().plot(label=\"train\")\n",
    "test.date.value_counts().sort_index().plot(label=\"test\")\n",
    "plt.legend()"
   ]
  },
  {
   "cell_type": "markdown",
   "metadata": {
    "_uuid": "7bad2cb96ee8759029c2673274ebafea874ab019",
    "hidden": true
   },
   "source": [
    "Comparing categories in train and test:"
   ]
  },
  {
   "cell_type": "code",
   "execution_count": 18,
   "metadata": {},
   "outputs": [
    {
     "data": {
      "text/plain": [
       "0        2017-10-16\n",
       "1        2017-10-16\n",
       "2        2017-10-16\n",
       "3        2017-10-16\n",
       "4        2017-10-16\n",
       "5        2017-10-16\n",
       "6        2017-10-16\n",
       "7        2017-10-16\n",
       "8        2017-10-16\n",
       "9        2017-10-16\n",
       "10       2017-10-16\n",
       "11       2017-10-16\n",
       "12       2017-10-16\n",
       "13       2017-10-16\n",
       "14       2017-10-16\n",
       "15       2017-10-16\n",
       "16       2017-10-16\n",
       "17       2017-10-16\n",
       "18       2017-10-16\n",
       "19       2017-10-16\n",
       "20       2017-10-16\n",
       "21       2017-10-16\n",
       "22       2017-10-16\n",
       "23       2017-10-16\n",
       "24       2017-10-16\n",
       "25       2017-10-16\n",
       "26       2017-10-16\n",
       "27       2017-10-16\n",
       "28       2017-10-16\n",
       "29       2017-10-16\n",
       "            ...    \n",
       "299970   2016-10-21\n",
       "299971   2016-10-21\n",
       "299972   2016-10-21\n",
       "299973   2016-10-21\n",
       "299974   2016-10-21\n",
       "299975   2016-10-21\n",
       "299976   2016-10-21\n",
       "299977   2016-10-21\n",
       "299978   2016-10-21\n",
       "299979   2016-10-21\n",
       "299980   2016-10-21\n",
       "299981   2016-10-21\n",
       "299982   2016-10-21\n",
       "299983   2016-10-21\n",
       "299984   2016-10-21\n",
       "299985   2016-10-21\n",
       "299986   2016-10-21\n",
       "299987   2016-10-21\n",
       "299988   2016-10-21\n",
       "299989   2016-10-21\n",
       "299990   2016-10-21\n",
       "299991   2016-10-21\n",
       "299992   2016-10-21\n",
       "299993   2016-10-21\n",
       "299994   2016-10-21\n",
       "299995   2016-10-21\n",
       "299996   2016-10-21\n",
       "299997   2016-10-21\n",
       "299998   2016-10-21\n",
       "299999   2016-10-21\n",
       "Name: date, Length: 300000, dtype: datetime64[ns]"
      ]
     },
     "execution_count": 18,
     "metadata": {},
     "output_type": "execute_result"
    }
   ],
   "source": [
    "train.date"
   ]
  },
  {
   "cell_type": "code",
   "execution_count": 19,
   "metadata": {
    "ExecuteTime": {
     "end_time": "2018-10-14T10:14:46.414251Z",
     "start_time": "2018-10-14T10:14:46.040835Z"
    },
    "_uuid": "d01fd047ebf1846878180feed9ec7727d86eb5c9",
    "hidden": true
   },
   "outputs": [
    {
     "data": {
      "image/png": "[encoded data removed]",
      "text/plain": [
       "<Figure size 432x288 with 1 Axes>"
      ]
     },
     "metadata": {},
     "output_type": "display_data"
    }
   ],
   "source": [
    "def drawBars(columnname):\n",
    "    sns.barplot(x=\"count\", y=\"index\", hue=\"dataset\",\n",
    "        data=pd.melt(pd.concat([train[columnname].value_counts().rename(\"train\"), \n",
    "                       test[columnname].value_counts().rename(\"test\")], axis=1, sort=\"False\").reset_index(),\n",
    "            id_vars=\"index\", var_name=\"dataset\", value_name=\"count\"))\n",
    "\n",
    "drawBars(\"channelGrouping\")"
   ]
  },
  {
   "cell_type": "code",
   "execution_count": 20,
   "metadata": {
    "ExecuteTime": {
     "end_time": "2018-10-14T10:14:46.749189Z",
     "start_time": "2018-10-14T10:14:46.415238Z"
    },
    "_uuid": "c74de2f8e3ec4d25deae73dd6717a821c0368bc9",
    "hidden": true
   },
   "outputs": [
    {
     "data": {
      "image/png": "[encoded data removed]",
      "text/plain": [
       "<Figure size 432x288 with 1 Axes>"
      ]
     },
     "metadata": {},
     "output_type": "display_data"
    }
   ],
   "source": [
    "drawBars(\"geoNetwork.continent\")"
   ]
  },
  {
   "cell_type": "code",
   "execution_count": 21,
   "metadata": {
    "ExecuteTime": {
     "end_time": "2018-10-14T10:14:47.335654Z",
     "start_time": "2018-10-14T10:14:46.751174Z"
    },
    "_uuid": "11be97e1e52ade3a4c65cb0133d23f24e5fa0c7f",
    "hidden": true
   },
   "outputs": [
    {
     "name": "stdout",
     "output_type": "stream",
     "text": [
      "Unique visitor ids in train: 262777\n",
      "Unique visitor ids in test: 296530\n",
      "Common visitors in train and test: 1013\n"
     ]
    }
   ],
   "source": [
    "ids_train = set(train.fullVisitorId.unique())\n",
    "ids_test = set(test.fullVisitorId.unique())\n",
    "print(\"Unique visitor ids in train:\", len(ids_train))\n",
    "print(\"Unique visitor ids in test:\", len(ids_test))\n",
    "print(\"Common visitors in train and test:\", len(ids_train & ids_test))"
   ]
  },
  {
   "cell_type": "markdown",
   "metadata": {
    "_uuid": "656995db4dd09f60e3dcd6f96bed21267c2ee200",
    "hidden": true
   },
   "source": [
    "Weird \"double\" sessions:"
   ]
  },
  {
   "cell_type": "markdown",
   "metadata": {
    "_uuid": "4e397738f34d9c4c05735755ed06900d943e2c83",
    "hidden": true
   },
   "source": [
    "\n",
    "VisitStartTime seems to be same thing as visitId... yet not always!"
   ]
  },
  {
   "cell_type": "code",
   "execution_count": 23,
   "metadata": {
    "ExecuteTime": {
     "end_time": "2018-10-14T10:14:48.753719Z",
     "start_time": "2018-10-14T10:14:48.732712Z"
    },
    "_uuid": "d1da4c6151bb7383022c400ac4f4fd5b5a8d8be2",
    "hidden": true
   },
   "outputs": [
    {
     "data": {
      "text/plain": [
       "True     298558\n",
       "False      1442\n",
       "dtype: int64"
      ]
     },
     "execution_count": 23,
     "metadata": {},
     "output_type": "execute_result"
    }
   ],
   "source": [
    "(train.visitStartTime == train.visitId).value_counts()"
   ]
  },
  {
   "cell_type": "markdown",
   "metadata": {
    "_uuid": "095aa23508ed949ebdd2116a290c960ee5c1d5c4",
    "hidden": true
   },
   "source": [
    "Suspicious simultaneous visitors with same visitorId and same visitStartTime:"
   ]
  },
  {
   "cell_type": "code",
   "execution_count": 24,
   "metadata": {
    "ExecuteTime": {
     "end_time": "2018-10-14T10:14:53.691564Z",
     "start_time": "2018-10-14T10:14:48.754700Z"
    },
    "_uuid": "8c46911f4f61272464a1adfa00a29b4c54b2d472",
    "hidden": true
   },
   "outputs": [
    {
     "data": {
      "text/html": [
       "<div>\n",
       "<style scoped>\n",
       "    .dataframe tbody tr th:only-of-type {\n",
       "        vertical-align: middle;\n",
       "    }\n",
       "\n",
       "    .dataframe tbody tr th {\n",
       "        vertical-align: top;\n",
       "    }\n",
       "\n",
       "    .dataframe thead th {\n",
       "        text-align: right;\n",
       "    }\n",
       "</style>\n",
       "<table border=\"1\" class=\"dataframe\">\n",
       "  <thead>\n",
       "    <tr style=\"text-align: right;\">\n",
       "      <th></th>\n",
       "      <th>channelGrouping</th>\n",
       "      <th>date</th>\n",
       "      <th>fullVisitorId</th>\n",
       "      <th>visitId</th>\n",
       "      <th>visitNumber</th>\n",
       "      <th>visitStartTime</th>\n",
       "      <th>device.browser</th>\n",
       "      <th>device.deviceCategory</th>\n",
       "      <th>device.isMobile</th>\n",
       "      <th>device.operatingSystem</th>\n",
       "      <th>geoNetwork.city</th>\n",
       "      <th>geoNetwork.continent</th>\n",
       "      <th>geoNetwork.country</th>\n",
       "      <th>geoNetwork.metro</th>\n",
       "      <th>geoNetwork.networkDomain</th>\n",
       "      <th>geoNetwork.region</th>\n",
       "      <th>geoNetwork.subContinent</th>\n",
       "      <th>totals.bounces</th>\n",
       "      <th>totals.hits</th>\n",
       "      <th>totals.newVisits</th>\n",
       "      <th>totals.pageviews</th>\n",
       "      <th>totals.sessionQualityDim</th>\n",
       "      <th>totals.timeOnSite</th>\n",
       "      <th>totals.transactionRevenue</th>\n",
       "      <th>totals.transactions</th>\n",
       "      <th>trafficSource.adContent</th>\n",
       "      <th>trafficSource.adwordsClickInfo.adNetworkType</th>\n",
       "      <th>trafficSource.adwordsClickInfo.gclId</th>\n",
       "      <th>trafficSource.adwordsClickInfo.isVideoAd</th>\n",
       "      <th>trafficSource.adwordsClickInfo.page</th>\n",
       "      <th>trafficSource.adwordsClickInfo.slot</th>\n",
       "      <th>trafficSource.campaign</th>\n",
       "      <th>trafficSource.campaignCode</th>\n",
       "      <th>trafficSource.isTrueDirect</th>\n",
       "      <th>trafficSource.keyword</th>\n",
       "      <th>trafficSource.medium</th>\n",
       "    </tr>\n",
       "  </thead>\n",
       "  <tbody>\n",
       "  </tbody>\n",
       "</table>\n",
       "</div>"
      ],
      "text/plain": [
       "Empty DataFrame\n",
       "Columns: [channelGrouping, date, fullVisitorId, visitId, visitNumber, visitStartTime, device.browser, device.deviceCategory, device.isMobile, device.operatingSystem, geoNetwork.city, geoNetwork.continent, geoNetwork.country, geoNetwork.metro, geoNetwork.networkDomain, geoNetwork.region, geoNetwork.subContinent, totals.bounces, totals.hits, totals.newVisits, totals.pageviews, totals.sessionQualityDim, totals.timeOnSite, totals.transactionRevenue, totals.transactions, trafficSource.adContent, trafficSource.adwordsClickInfo.adNetworkType, trafficSource.adwordsClickInfo.gclId, trafficSource.adwordsClickInfo.isVideoAd, trafficSource.adwordsClickInfo.page, trafficSource.adwordsClickInfo.slot, trafficSource.campaign, trafficSource.campaignCode, trafficSource.isTrueDirect, trafficSource.keyword, trafficSource.medium]\n",
       "Index: []"
      ]
     },
     "execution_count": 24,
     "metadata": {},
     "output_type": "execute_result"
    }
   ],
   "source": [
    "train.loc[pd.to_datetime(train.visitStartTime, unit='s') == \"2017-04-25 18:49:35\"].head(8)"
   ]
  },
  {
   "cell_type": "markdown",
   "metadata": {
    "_uuid": "62bd7555d3071836e871bfd3056916375d4a84ae",
    "hidden": true
   },
   "source": [
    "Seems to be a serious problem:"
   ]
  },
  {
   "cell_type": "code",
   "execution_count": 25,
   "metadata": {
    "ExecuteTime": {
     "end_time": "2018-10-14T10:14:54.071763Z",
     "start_time": "2018-10-14T10:14:53.692566Z"
    },
    "_uuid": "5dc9f41d1d93edcee46d9d3cd73be75334c42c24",
    "hidden": true
   },
   "outputs": [
    {
     "name": "stdout",
     "output_type": "stream",
     "text": [
      "Train:  [     0 283283   5722    235     50     33     26     20     14     17\n",
      "     24     12     15     24     22     24     19     21     21     23\n",
      "      9      8      5      2      2      0      1      0      2]\n"
     ]
    }
   ],
   "source": [
    "# bincount: 負でない整数の配列の各値の出現回数をカウント\n",
    "print(\"Train: \", np.bincount(train.visitId.value_counts()))"
   ]
  },
  {
   "cell_type": "code",
   "execution_count": 26,
   "metadata": {
    "ExecuteTime": {
     "end_time": "2018-10-14T10:14:54.199694Z",
     "start_time": "2018-10-14T10:14:54.072751Z"
    },
    "_uuid": "8aca51ed171fffc4b5745422ebfbd934f1fcf2a0",
    "hidden": true
   },
   "outputs": [
    {
     "name": "stdout",
     "output_type": "stream",
     "text": [
      "test:  [     0 385311   7470    312     59     16      7      5      0      1]\n"
     ]
    }
   ],
   "source": [
    "print(\"test: \", np.bincount(test.visitId.value_counts()))"
   ]
  },
  {
   "cell_type": "markdown",
   "metadata": {
    "_uuid": "17aff2e8a7b671707d33e013bfed5978d3d689f1"
   },
   "source": [
    "# Preprocessing"
   ]
  },
  {
   "cell_type": "markdown",
   "metadata": {
    "_uuid": "943bf363df8a37af86aeb46eec0cd8a9db078bf7"
   },
   "source": [
    "Setting time as index and saving time as feature (for FE purposes only)"
   ]
  },
  {
   "cell_type": "code",
   "execution_count": 27,
   "metadata": {
    "ExecuteTime": {
     "end_time": "2018-10-14T10:15:03.164776Z",
     "start_time": "2018-10-14T10:14:54.200678Z"
    },
    "_uuid": "3ed4a7cd86cef5f945e2e57d1c29affd8aec46d6"
   },
   "outputs": [],
   "source": [
    "train.visitStartTime = pd.to_datetime(train.visitStartTime, unit='s')\n",
    "test.visitStartTime = pd.to_datetime(test.visitStartTime, unit='s')\n",
    "train[\"date\"] = train.visitStartTime\n",
    "test[\"date\"] = test.visitStartTime"
   ]
  },
  {
   "cell_type": "code",
   "execution_count": 28,
   "metadata": {
    "ExecuteTime": {
     "end_time": "2018-10-14T10:15:04.170198Z",
     "start_time": "2018-10-14T10:15:03.165734Z"
    },
    "_uuid": "37086f27593fe6ffae04bba4016f1e2250e8d6bd"
   },
   "outputs": [],
   "source": [
    "train.set_index(\"visitStartTime\", inplace=True)\n",
    "test.set_index(\"visitStartTime\", inplace=True)\n",
    "train.sort_index(inplace=True)\n",
    "test.sort_index(inplace=True)"
   ]
  },
  {
   "cell_type": "markdown",
   "metadata": {
    "_uuid": "fe8ceb2681656261dd7fcd114a8f102817cf3aaa"
   },
   "source": [
    "Clearing rare categories and setting 0 to NaNs:"
   ]
  },
  {
   "cell_type": "code",
   "execution_count": 29,
   "metadata": {
    "ExecuteTime": {
     "end_time": "2018-10-14T10:15:04.263164Z",
     "start_time": "2018-10-14T10:15:04.171179Z"
    },
    "_uuid": "9fb6867cb20933891f4f1d5fbfe210bedadea973"
   },
   "outputs": [],
   "source": [
    "def clearRare(columnname, limit = 1000):\n",
    "    # you may search for rare categories in train, train&test, or just test\n",
    "    #vc = pd.concat([train[columnname], test[columnname]], sort=False).value_counts()\n",
    "    vc = test[columnname].value_counts()\n",
    "    \n",
    "    common = vc > limit\n",
    "    common = set(common.index[common].values)  # limitより多い重複の値を持ってるカラムをインデックスに設定\n",
    "    print(\"Set\", sum(vc <= limit), columnname, \"categories to 'other';\", end=\" \")\n",
    "    \n",
    "    train.loc[train[columnname].map(lambda x: x not in common), columnname] = 'other'\n",
    "    test.loc[test[columnname].map(lambda x: x not in common), columnname] = 'other'\n",
    "    print(\"now there are\", train[columnname].nunique(), \"categories in train\")"
   ]
  },
  {
   "cell_type": "code",
   "execution_count": 30,
   "metadata": {
    "ExecuteTime": {
     "end_time": "2018-10-14T10:15:06.666037Z",
     "start_time": "2018-10-14T10:15:04.264177Z"
    },
    "_uuid": "f701fb7ac0896957145e44b1e827019d75b51ea9"
   },
   "outputs": [],
   "source": [
    "train.fillna(0, inplace=True)\n",
    "test.fillna(0, inplace=True)"
   ]
  },
  {
   "cell_type": "code",
   "execution_count": 33,
   "metadata": {
    "ExecuteTime": {
     "end_time": "2018-10-14T10:15:14.334775Z",
     "start_time": "2018-10-14T10:15:06.667037Z"
    },
    "_uuid": "a695f7c5574559cde287a13717e45fb2d2cfbf3e"
   },
   "outputs": [
    {
     "name": "stdout",
     "output_type": "stream",
     "text": [
      "Set 0 device.browser categories to 'other'; now there are 11 categories in train\n",
      "Set 1 device.operatingSystem categories to 'other'; now there are 8 categories in train\n",
      "Set 0 geoNetwork.country categories to 'other'; now there are 47 categories in train\n",
      "Set 0 geoNetwork.city categories to 'other'; now there are 43 categories in train\n",
      "Set 0 geoNetwork.metro categories to 'other'; now there are 16 categories in train\n",
      "Set 0 geoNetwork.networkDomain categories to 'other'; now there are 25 categories in train\n",
      "Set 0 geoNetwork.region categories to 'other'; now there are 35 categories in train\n",
      "Set 0 geoNetwork.subContinent categories to 'other'; now there are 16 categories in train\n",
      "Set 0 trafficSource.adContent categories to 'other'; now there are 2 categories in train\n",
      "Set 0 trafficSource.campaign categories to 'other'; now there are 4 categories in train\n",
      "Set 0 trafficSource.keyword categories to 'other'; now there are 6 categories in train\n",
      "Set 1 trafficSource.medium categories to 'other'; now there are 7 categories in train\n"
     ]
    }
   ],
   "source": [
    "clearRare(\"device.browser\")\n",
    "clearRare(\"device.operatingSystem\")\n",
    "clearRare(\"geoNetwork.country\")\n",
    "clearRare(\"geoNetwork.city\")\n",
    "clearRare(\"geoNetwork.metro\")\n",
    "clearRare(\"geoNetwork.networkDomain\")\n",
    "clearRare(\"geoNetwork.region\")\n",
    "clearRare(\"geoNetwork.subContinent\")\n",
    "clearRare(\"trafficSource.adContent\")\n",
    "clearRare(\"trafficSource.campaign\")\n",
    "clearRare(\"trafficSource.keyword\")\n",
    "clearRare(\"trafficSource.medium\")\n",
    "# clearRare(\"trafficSource.referralPath\")\n",
    "# clearRare(\"trafficSource.source\")"
   ]
  },
  {
   "cell_type": "markdown",
   "metadata": {
    "_uuid": "2b7f3a3afa9484311f41ad94445c47f538d05159"
   },
   "source": [
    "# Features"
   ]
  },
  {
   "cell_type": "markdown",
   "metadata": {
    "_uuid": "68e22002e956f21dbcdd067827bbf52b108aac0b"
   },
   "source": [
    "Based on strange things in dataset:"
   ]
  },
  {
   "cell_type": "code",
   "execution_count": 35,
   "metadata": {
    "ExecuteTime": {
     "end_time": "2018-10-14T10:15:55.506837Z",
     "start_time": "2018-10-14T10:15:52.159667Z"
    },
    "_uuid": "3f1a255e21cbee7ae45c1fe652cf4ae23bb4f86a"
   },
   "outputs": [],
   "source": [
    "for df in [train, test]:\n",
    "    # remember these features were equal, but not always? May be it means something...\n",
    "    df[\"id_incoherence\"] = pd.to_datetime(df.visitId, unit='s') != df.date\n",
    "    # remember visitId dublicates?\n",
    "    df[\"visitId_dublicates\"] = df.visitId.map(df.visitId.value_counts())"
   ]
  },
  {
   "cell_type": "markdown",
   "metadata": {
    "_uuid": "37f5047dce936f96a127e277d918e7ddfe615551"
   },
   "source": [
    "Basic time features:"
   ]
  },
  {
   "cell_type": "code",
   "execution_count": 36,
   "metadata": {
    "ExecuteTime": {
     "end_time": "2018-10-14T10:15:56.543232Z",
     "start_time": "2018-10-14T10:15:55.507819Z"
    },
    "_uuid": "073ccfadc886fdde9da3a780f61aff53bfc52f29"
   },
   "outputs": [],
   "source": [
    "for df in [train, test]:\n",
    "    df['weekday'] = df['date'].dt.dayofweek.astype(object)\n",
    "    df['time'] = df['date'].dt.second + df['date'].dt.minute*60 + df['date'].dt.hour*3600\n",
    "    #df['month'] = df['date'].dt.month   # it must not be included in features during learning!\n",
    "    df['day'] = df['date'].dt.date       # it must not be included in features during learning!"
   ]
  },
  {
   "cell_type": "markdown",
   "metadata": {
    "_uuid": "b83208cb7e0f7c9b86c52bfd12c5148b5325d52f"
   },
   "source": [
    "Looking to future features (from https://www.kaggle.com/ashishpatel26/future-is-here):"
   ]
  },
  {
   "cell_type": "code",
   "execution_count": 37,
   "metadata": {
    "ExecuteTime": {
     "end_time": "2018-10-14T10:16:18.857190Z",
     "start_time": "2018-10-14T10:15:59.656227Z"
    },
    "_uuid": "68c9f7aa5d7138e5dde3facbb3b4e6799781a4bd"
   },
   "outputs": [],
   "source": [
    "df = pd.concat([train, test])\n",
    "df.sort_values(['fullVisitorId', 'date'], ascending=True, inplace=True)\n",
    "df['prev_session'] = (df['date'] - df[['fullVisitorId', 'date']].groupby('fullVisitorId')['date'].shift(1)).astype(np.int64) // 1e9 // 60 // 60\n",
    "df['next_session'] = (df['date'] - df[['fullVisitorId', 'date']].groupby('fullVisitorId')['date'].shift(-1)).astype(np.int64) // 1e9 // 60 // 60\n",
    "df.sort_index(inplace=True)\n",
    "\n",
    "train = df[:len(train)]\n",
    "test = df[len(train):]"
   ]
  },
  {
   "cell_type": "markdown",
   "metadata": {
    "_uuid": "7e73108b18143f336249bfa7eccc0528efc9a9d5"
   },
   "source": [
    "Paired categories from \"teach-lightgbm-to-sum-predictions\" kernel"
   ]
  },
  {
   "cell_type": "code",
   "execution_count": 39,
   "metadata": {
    "ExecuteTime": {
     "end_time": "2018-10-14T10:16:41.590190Z",
     "start_time": "2018-10-14T10:16:39.896553Z"
    },
    "_uuid": "10d1600e3defb6ff55155f6f8e951f3dd028552b"
   },
   "outputs": [],
   "source": [
    "for df in [train, test]:\n",
    "#     df['source.country'] = df['trafficSource.source'] + '_' + df['geoNetwork.country']\n",
    "    df['campaign.medium'] = df['trafficSource.campaign'] + '_' + df['trafficSource.medium']\n",
    "    df['browser.category'] = df['device.browser'] + '_' + df['device.deviceCategory']\n",
    "    df['browser.os'] = df['device.browser'] + '_' + df['device.operatingSystem']"
   ]
  },
  {
   "cell_type": "code",
   "execution_count": 43,
   "metadata": {
    "ExecuteTime": {
     "end_time": "2018-10-14T10:16:52.339513Z",
     "start_time": "2018-10-14T10:16:41.591753Z"
    },
    "_uuid": "58bb8b85f89863602b6467195cc00aee0a0ab52d"
   },
   "outputs": [],
   "source": [
    "for df in [train, test]:\n",
    "    df['device_deviceCategory_channelGrouping'] = df['device.deviceCategory'] + \"_\" + df['channelGrouping']\n",
    "    df['channelGrouping_browser'] = df['device.browser'] + \"_\" + df['channelGrouping']\n",
    "    df['channelGrouping_OS'] = df['device.operatingSystem'] + \"_\" + df['channelGrouping']\n",
    "    \n",
    "    for i in ['geoNetwork.city', 'geoNetwork.continent', 'geoNetwork.country','geoNetwork.metro', 'geoNetwork.networkDomain', 'geoNetwork.region','geoNetwork.subContinent']:\n",
    "        for j in ['device.browser','device.deviceCategory', 'device.operatingSystem']:\n",
    "            df[i + \"_\" + j] = df[i] + \"_\" + df[j]\n",
    "    \n",
    "#     df['content.source'] = df['trafficSource.adContent'].astype(str) + \"_\" + df['source.country']\n",
    "#     df['medium.source'] = df['trafficSource.medium'] + \"_\" + df['source.country']"
   ]
  },
  {
   "cell_type": "markdown",
   "metadata": {
    "_uuid": "ae67bc3d2938e76ac7d7c9f11dd5bf70d0cdcdbd"
   },
   "source": [
    "User-aggregating features:"
   ]
  },
  {
   "cell_type": "code",
   "execution_count": 44,
   "metadata": {
    "ExecuteTime": {
     "end_time": "2018-10-14T10:17:35.164422Z",
     "start_time": "2018-10-14T10:16:52.340484Z"
    },
    "_uuid": "27514d21f0fc7a9dad33ec270d839477254d43f9",
    "scrolled": true
   },
   "outputs": [
    {
     "ename": "DataError",
     "evalue": "No numeric types to aggregate",
     "output_type": "error",
     "traceback": [
      "\u001b[0;31m---------------------------------------------------------------------------\u001b[0m",
      "\u001b[0;31mDataError\u001b[0m                                 Traceback (most recent call last)",
      "\u001b[0;32m<ipython-input-44-689dfb8592a7>\u001b[0m in \u001b[0;36m<module>\u001b[0;34m()\u001b[0m\n\u001b[1;32m      1\u001b[0m \u001b[0;32mfor\u001b[0m \u001b[0mfeature\u001b[0m \u001b[0;32min\u001b[0m \u001b[0;34m[\u001b[0m\u001b[0;34m\"totals.hits\"\u001b[0m\u001b[0;34m,\u001b[0m \u001b[0;34m\"totals.pageviews\"\u001b[0m\u001b[0;34m]\u001b[0m\u001b[0;34m:\u001b[0m\u001b[0;34m\u001b[0m\u001b[0m\n\u001b[0;32m----> 2\u001b[0;31m     \u001b[0minfo\u001b[0m \u001b[0;34m=\u001b[0m \u001b[0mpd\u001b[0m\u001b[0;34m.\u001b[0m\u001b[0mconcat\u001b[0m\u001b[0;34m(\u001b[0m\u001b[0;34m[\u001b[0m\u001b[0mtrain\u001b[0m\u001b[0;34m,\u001b[0m \u001b[0mtest\u001b[0m\u001b[0;34m]\u001b[0m\u001b[0;34m,\u001b[0m \u001b[0msort\u001b[0m\u001b[0;34m=\u001b[0m\u001b[0;32mFalse\u001b[0m\u001b[0;34m)\u001b[0m\u001b[0;34m.\u001b[0m\u001b[0mgroupby\u001b[0m\u001b[0;34m(\u001b[0m\u001b[0;34m\"fullVisitorId\"\u001b[0m\u001b[0;34m)\u001b[0m\u001b[0;34m[\u001b[0m\u001b[0mfeature\u001b[0m\u001b[0;34m]\u001b[0m\u001b[0;34m.\u001b[0m\u001b[0mmean\u001b[0m\u001b[0;34m(\u001b[0m\u001b[0;34m)\u001b[0m\u001b[0;34m\u001b[0m\u001b[0m\n\u001b[0m\u001b[1;32m      3\u001b[0m     \u001b[0mtrain\u001b[0m\u001b[0;34m[\u001b[0m\u001b[0;34m\"usermean_\"\u001b[0m \u001b[0;34m+\u001b[0m \u001b[0mfeature\u001b[0m\u001b[0;34m]\u001b[0m \u001b[0;34m=\u001b[0m \u001b[0mtrain\u001b[0m\u001b[0;34m.\u001b[0m\u001b[0mfullVisitorId\u001b[0m\u001b[0;34m.\u001b[0m\u001b[0mmap\u001b[0m\u001b[0;34m(\u001b[0m\u001b[0minfo\u001b[0m\u001b[0;34m)\u001b[0m\u001b[0;34m\u001b[0m\u001b[0m\n\u001b[1;32m      4\u001b[0m     \u001b[0mtest\u001b[0m\u001b[0;34m[\u001b[0m\u001b[0;34m\"usermean_\"\u001b[0m \u001b[0;34m+\u001b[0m \u001b[0mfeature\u001b[0m\u001b[0;34m]\u001b[0m \u001b[0;34m=\u001b[0m \u001b[0mtest\u001b[0m\u001b[0;34m.\u001b[0m\u001b[0mfullVisitorId\u001b[0m\u001b[0;34m.\u001b[0m\u001b[0mmap\u001b[0m\u001b[0;34m(\u001b[0m\u001b[0minfo\u001b[0m\u001b[0;34m)\u001b[0m\u001b[0;34m\u001b[0m\u001b[0m\n\u001b[1;32m      5\u001b[0m \u001b[0;34m\u001b[0m\u001b[0m\n",
      "\u001b[0;32m~/anaconda3/lib/python3.6/site-packages/pandas/core/groupby/groupby.py\u001b[0m in \u001b[0;36mmean\u001b[0;34m(self, *args, **kwargs)\u001b[0m\n\u001b[1;32m   1304\u001b[0m         \u001b[0mnv\u001b[0m\u001b[0;34m.\u001b[0m\u001b[0mvalidate_groupby_func\u001b[0m\u001b[0;34m(\u001b[0m\u001b[0;34m'mean'\u001b[0m\u001b[0;34m,\u001b[0m \u001b[0margs\u001b[0m\u001b[0;34m,\u001b[0m \u001b[0mkwargs\u001b[0m\u001b[0;34m,\u001b[0m \u001b[0;34m[\u001b[0m\u001b[0;34m'numeric_only'\u001b[0m\u001b[0;34m]\u001b[0m\u001b[0;34m)\u001b[0m\u001b[0;34m\u001b[0m\u001b[0m\n\u001b[1;32m   1305\u001b[0m         \u001b[0;32mtry\u001b[0m\u001b[0;34m:\u001b[0m\u001b[0;34m\u001b[0m\u001b[0m\n\u001b[0;32m-> 1306\u001b[0;31m             \u001b[0;32mreturn\u001b[0m \u001b[0mself\u001b[0m\u001b[0;34m.\u001b[0m\u001b[0m_cython_agg_general\u001b[0m\u001b[0;34m(\u001b[0m\u001b[0;34m'mean'\u001b[0m\u001b[0;34m,\u001b[0m \u001b[0;34m**\u001b[0m\u001b[0mkwargs\u001b[0m\u001b[0;34m)\u001b[0m\u001b[0;34m\u001b[0m\u001b[0m\n\u001b[0m\u001b[1;32m   1307\u001b[0m         \u001b[0;32mexcept\u001b[0m \u001b[0mGroupByError\u001b[0m\u001b[0;34m:\u001b[0m\u001b[0;34m\u001b[0m\u001b[0m\n\u001b[1;32m   1308\u001b[0m             \u001b[0;32mraise\u001b[0m\u001b[0;34m\u001b[0m\u001b[0m\n",
      "\u001b[0;32m~/anaconda3/lib/python3.6/site-packages/pandas/core/groupby/groupby.py\u001b[0m in \u001b[0;36m_cython_agg_general\u001b[0;34m(self, how, alt, numeric_only, min_count)\u001b[0m\n\u001b[1;32m   1054\u001b[0m \u001b[0;34m\u001b[0m\u001b[0m\n\u001b[1;32m   1055\u001b[0m         \u001b[0;32mif\u001b[0m \u001b[0mlen\u001b[0m\u001b[0;34m(\u001b[0m\u001b[0moutput\u001b[0m\u001b[0;34m)\u001b[0m \u001b[0;34m==\u001b[0m \u001b[0;36m0\u001b[0m\u001b[0;34m:\u001b[0m\u001b[0;34m\u001b[0m\u001b[0m\n\u001b[0;32m-> 1056\u001b[0;31m             \u001b[0;32mraise\u001b[0m \u001b[0mDataError\u001b[0m\u001b[0;34m(\u001b[0m\u001b[0;34m'No numeric types to aggregate'\u001b[0m\u001b[0;34m)\u001b[0m\u001b[0;34m\u001b[0m\u001b[0m\n\u001b[0m\u001b[1;32m   1057\u001b[0m \u001b[0;34m\u001b[0m\u001b[0m\n\u001b[1;32m   1058\u001b[0m         \u001b[0;32mreturn\u001b[0m \u001b[0mself\u001b[0m\u001b[0;34m.\u001b[0m\u001b[0m_wrap_aggregated_output\u001b[0m\u001b[0;34m(\u001b[0m\u001b[0moutput\u001b[0m\u001b[0;34m,\u001b[0m \u001b[0mnames\u001b[0m\u001b[0;34m)\u001b[0m\u001b[0;34m\u001b[0m\u001b[0m\n",
      "\u001b[0;31mDataError\u001b[0m: No numeric types to aggregate"
     ]
    }
   ],
   "source": [
    "for feature in [\"totals.hits\", \"totals.pageviews\"]:\n",
    "    info = pd.concat([train, test], sort=False).groupby(\"fullVisitorId\")[feature].mean()\n",
    "    train[\"usermean_\" + feature] = train.fullVisitorId.map(info)\n",
    "    test[\"usermean_\" + feature] = test.fullVisitorId.map(info)\n",
    "    \n",
    "for feature in [\"visitNumber\"]:\n",
    "    info = pd.concat([train, test], sort=False).groupby(\"fullVisitorId\")[feature].max()\n",
    "    train[\"usermax_\" + feature] = train.fullVisitorId.map(info)\n",
    "    test[\"usermax_\" + feature] = test.fullVisitorId.map(info)"
   ]
  },
  {
   "cell_type": "code",
   "execution_count": 50,
   "metadata": {},
   "outputs": [
    {
     "data": {
      "text/plain": [
       "dtype('O')"
      ]
     },
     "execution_count": 50,
     "metadata": {},
     "output_type": "execute_result"
    }
   ],
   "source": [
    "train[\"fullVisitorId\"].dtype"
   ]
  },
  {
   "cell_type": "code",
   "execution_count": 49,
   "metadata": {},
   "outputs": [
    {
     "data": {
      "text/plain": [
       "dtype('O')"
      ]
     },
     "execution_count": 49,
     "metadata": {},
     "output_type": "execute_result"
    }
   ],
   "source": [
    "train[\"totals.hits\"].dtype"
   ]
  },
  {
   "cell_type": "markdown",
   "metadata": {
    "_uuid": "dbf5236e34eba96d3dc50b7a1a80d202a64f56bf"
   },
   "source": [
    "# Encoding features"
   ]
  },
  {
   "cell_type": "code",
   "execution_count": null,
   "metadata": {
    "ExecuteTime": {
     "end_time": "2018-10-14T10:17:35.245363Z",
     "start_time": "2018-10-14T10:17:35.166407Z"
    },
    "_uuid": "78ae6da4f2949dc31b194ad718afc21ce7e589d0"
   },
   "outputs": [],
   "source": [
    "excluded = ['date', 'fullVisitorId', 'totals.transactionRevenue', 'visitId', 'visitStartTime', \n",
    "            'month', 'day', 'help']\n",
    "\n",
    "cat_cols = [f for f in train.columns if (train[f].dtype == 'object' and f not in excluded)]\n",
    "real_cols = [f for f in train.columns if (not f in cat_cols and f not in excluded)]"
   ]
  },
  {
   "cell_type": "code",
   "execution_count": null,
   "metadata": {
    "ExecuteTime": {
     "end_time": "2018-10-14T10:17:39.712707Z",
     "start_time": "2018-10-14T10:17:35.246376Z"
    },
    "_uuid": "3d86a3019a0ec353e3d0200d4c4ff7cc852b07f2",
    "scrolled": true
   },
   "outputs": [],
   "source": [
    "# ユニークな要素の個数を整数int型で返す\n",
    "train[cat_cols].nunique()"
   ]
  },
  {
   "cell_type": "code",
   "execution_count": null,
   "metadata": {
    "ExecuteTime": {
     "end_time": "2018-10-14T10:28:54.550611Z",
     "start_time": "2018-10-14T10:22:17.008542Z"
    },
    "_uuid": "076160aba3c0147983bbf2c7f67c59564cc4d5b7"
   },
   "outputs": [],
   "source": [
    "#  文字データを数値に変換する\n",
    "from sklearn.preprocessing import LabelEncoder\n",
    "for col in cat_cols:\n",
    "    lbl = LabelEncoder()\n",
    "    lbl.fit(list(train[col].values.astype('str')) + list(test[col].values.astype('str')))\n",
    "    train[col] = lbl.transform(list(train[col].values.astype('str')))\n",
    "    test[col] = lbl.transform(list(test[col].values.astype('str')))"
   ]
  },
  {
   "cell_type": "code",
   "execution_count": null,
   "metadata": {
    "ExecuteTime": {
     "end_time": "2018-10-14T10:28:55.236215Z",
     "start_time": "2018-10-14T10:28:54.551593Z"
    },
    "_uuid": "38279bd60b601e107acb4e80135728475642349d"
   },
   "outputs": [],
   "source": [
    "for col in real_cols:\n",
    "    train[col] = train[col].astype(float)\n",
    "    test[col] = test[col].astype(float)"
   ]
  },
  {
   "cell_type": "code",
   "execution_count": null,
   "metadata": {
    "ExecuteTime": {
     "end_time": "2018-10-14T10:28:56.395339Z",
     "start_time": "2018-10-14T10:28:55.237198Z"
    },
    "_uuid": "c4970a0e547b1a62a3d8ab1f00ff32fdf4680d22"
   },
   "outputs": [],
   "source": [
    "train[real_cols + cat_cols].head()"
   ]
  },
  {
   "cell_type": "code",
   "execution_count": null,
   "metadata": {
    "ExecuteTime": {
     "end_time": "2018-10-14T10:28:56.900050Z",
     "start_time": "2018-10-14T10:28:56.396338Z"
    },
    "_uuid": "13e4f6dde59ace24a87c92eacce5665732eddab6"
   },
   "outputs": [],
   "source": [
    "for to_del in [\"date\", \"visitId\", \"day\"]:\n",
    "    del train[to_del]\n",
    "    del test[to_del]"
   ]
  },
  {
   "cell_type": "markdown",
   "metadata": {
    "_uuid": "3c064d11d02eea63a2f8ecc52c5d61870e0ddc69"
   },
   "source": [
    "# Preparing validation"
   ]
  },
  {
   "cell_type": "code",
   "execution_count": null,
   "metadata": {
    "ExecuteTime": {
     "end_time": "2018-10-14T10:31:00.099098Z",
     "start_time": "2018-10-14T10:31:00.089103Z"
    },
    "_uuid": "29d31db304283a23cb88b8618882b7fae081be6d"
   },
   "outputs": [],
   "source": [
    "excluded = ['date', 'fullVisitorId', 'totals.transactionRevenue', 'visitId', 'visitStartTime', \"month\", \"help\"]\n",
    "\n",
    "cat_cols = [f for f in train.columns if (train[f].dtype == 'int64' and f not in excluded)]\n",
    "real_cols = [f for f in train.columns if (not f in cat_cols and f not in excluded)]"
   ]
  },
  {
   "cell_type": "markdown",
   "metadata": {
    "_uuid": "fad0e919bf09d72e0b0064cd058bfe11bf7620a9"
   },
   "source": [
    "Function to tell us the score using the metric we actually care about"
   ]
  },
  {
   "cell_type": "code",
   "execution_count": null,
   "metadata": {
    "ExecuteTime": {
     "end_time": "2018-10-14T10:31:00.209041Z",
     "start_time": "2018-10-14T10:31:00.101097Z"
    },
    "_uuid": "f9467d334a330a5a06debbe0636b190c7a36bf87"
   },
   "outputs": [],
   "source": [
    "from sklearn.metrics import mean_squared_error\n",
    "def score(data, y):\n",
    "    validation_res = pd.DataFrame(\n",
    "    {\"fullVisitorId\": data[\"fullVisitorId\"].values,\n",
    "     \"transactionRevenue\": data[\"totals.transactionRevenue\"].values,\n",
    "     \"predictedRevenue\": np.expm1(y)})\n",
    "\n",
    "    validation_res = validation_res.groupby(\"fullVisitorId\")[\"transactionRevenue\", \"predictedRevenue\"].sum().reset_index()\n",
    "    return np.sqrt(mean_squared_error(np.log1p(validation_res[\"transactionRevenue\"].values), \n",
    "                                     np.log1p(validation_res[\"predictedRevenue\"].values)))"
   ]
  },
  {
   "cell_type": "markdown",
   "metadata": {
    "_uuid": "36f6b217c775d8f4b49739ba578003d2b23cb6a4"
   },
   "source": [
    "Cute function to validate and prepare stacking"
   ]
  },
  {
   "cell_type": "code",
   "execution_count": null,
   "metadata": {
    "ExecuteTime": {
     "end_time": "2018-10-14T10:31:00.326979Z",
     "start_time": "2018-10-14T10:31:00.210038Z"
    },
    "_uuid": "3e9b9136e4afdc96cfa7ed89ea2cd70d356334f8"
   },
   "outputs": [],
   "source": [
    "from sklearn.model_selection import GroupKFold\n",
    "\n",
    "class KFoldValidation():\n",
    "    def __init__(self, data, n_splits=5):\n",
    "        unique_vis = np.array(sorted(data['fullVisitorId'].astype(str).unique()))\n",
    "        folds = GroupKFold(n_splits)\n",
    "        ids = np.arange(data.shape[0])\n",
    "        \n",
    "        self.fold_ids = []\n",
    "        for trn_vis, val_vis in folds.split(X=unique_vis, y=unique_vis, groups=unique_vis):\n",
    "            self.fold_ids.append([\n",
    "                    ids[data['fullVisitorId'].astype(str).isin(unique_vis[trn_vis])],\n",
    "                    ids[data['fullVisitorId'].astype(str).isin(unique_vis[val_vis])]\n",
    "                ])\n",
    "            \n",
    "    def validate(self, train, test, features, model, name=\"\", prepare_stacking=False, \n",
    "                 fit_params={\"early_stopping_rounds\": 50, \"verbose\": 100, \"eval_metric\": \"rmse\"}):\n",
    "        model.FI = pd.DataFrame(index=features)\n",
    "        full_score = 0\n",
    "        \n",
    "        if prepare_stacking:\n",
    "            test[name] = 0\n",
    "            train[name] = np.NaN\n",
    "        \n",
    "        for fold_id, (trn, val) in enumerate(self.fold_ids):\n",
    "            devel = train[features].iloc[trn]\n",
    "            y_devel = np.log1p(train[\"totals.transactionRevenue\"].iloc[trn])\n",
    "            valid = train[features].iloc[val]\n",
    "            y_valid = np.log1p(train[\"totals.transactionRevenue\"].iloc[val])\n",
    "                       \n",
    "            print(\"Fold \", fold_id, \":\")\n",
    "            model.fit(devel, y_devel, eval_set=[(valid, y_valid)], **fit_params)\n",
    "            \n",
    "            if len(model.feature_importances_) == len(features):  # some bugs in catboost?\n",
    "                model.FI['fold' + str(fold_id)] = model.feature_importances_ / model.feature_importances_.sum()\n",
    "\n",
    "            predictions = model.predict(valid)\n",
    "            predictions[predictions < 0] = 0\n",
    "            print(\"Fold \", fold_id, \" error: \", mean_squared_error(y_valid, predictions)**0.5)\n",
    "            \n",
    "            fold_score = score(train.iloc[val], predictions)\n",
    "            full_score += fold_score / len(self.fold_ids)\n",
    "            print(\"Fold \", fold_id, \" score: \", fold_score)\n",
    "            \n",
    "            if prepare_stacking:\n",
    "                train[name].iloc[val] = predictions\n",
    "                \n",
    "                test_predictions = model.predict(test[features])\n",
    "                test_predictions[test_predictions < 0] = 0\n",
    "                test[name] += test_predictions / len(self.fold_ids)\n",
    "                \n",
    "        print(\"Final score: \", full_score)\n",
    "        return full_score"
   ]
  },
  {
   "cell_type": "code",
   "execution_count": null,
   "metadata": {
    "ExecuteTime": {
     "end_time": "2018-10-14T10:31:06.926033Z",
     "start_time": "2018-10-14T10:31:00.328983Z"
    },
    "_uuid": "873e39a4fbb0b39c4ca817018f57f91799e8cfb4"
   },
   "outputs": [],
   "source": [
    "Kfolder = KFoldValidation(train)"
   ]
  },
  {
   "cell_type": "code",
   "execution_count": null,
   "metadata": {
    "ExecuteTime": {
     "end_time": "2018-10-14T10:31:06.932030Z",
     "start_time": "2018-10-14T10:31:06.928032Z"
    },
    "_uuid": "627dfd643eeea3343a832bf49132775ad0cf8de6"
   },
   "outputs": [],
   "source": [
    "lgbmodel = lgb.LGBMRegressor(n_estimators=1000, objective=\"regression\", metric=\"rmse\", num_leaves=31, min_child_samples=100,\n",
    "                      learning_rate=0.03, bagging_fraction=0.7, feature_fraction=0.5, bagging_frequency=5, \n",
    "                      bagging_seed=2019, subsample=.9, colsample_bytree=.9, use_best_model=True)"
   ]
  },
  {
   "cell_type": "code",
   "execution_count": null,
   "metadata": {
    "ExecuteTime": {
     "end_time": "2018-10-14T10:34:23.651287Z",
     "start_time": "2018-10-14T10:31:06.934028Z"
    },
    "_uuid": "866753ac2ec4083463f35dc10f1871298006bfb0",
    "scrolled": true
   },
   "outputs": [],
   "source": [
    "Kfolder.validate(train, test, real_cols + cat_cols, lgbmodel, \"lgbpred\", prepare_stacking=True)"
   ]
  },
  {
   "cell_type": "code",
   "execution_count": null,
   "metadata": {
    "ExecuteTime": {
     "end_time": "2018-10-14T10:34:31.126837Z",
     "start_time": "2018-10-14T10:34:30.869974Z"
    },
    "_uuid": "3d42fd6591f49a3bbffaf319513f3f954b77ea7d"
   },
   "outputs": [],
   "source": [
    "lgbmodel.FI.mean(axis=1).sort_values()[:30].plot(kind=\"barh\")"
   ]
  },
  {
   "cell_type": "markdown",
   "metadata": {
    "ExecuteTime": {
     "end_time": "2018-10-09T17:50:33.536413Z",
     "start_time": "2018-10-09T17:50:33.533401Z"
    },
    "_uuid": "5f563afd19474f6085298bf1e6edd64cb69d0155"
   },
   "source": [
    "# User-level"
   ]
  },
  {
   "cell_type": "markdown",
   "metadata": {
    "_uuid": "cc16253b1fa723956648d89b19908a79e27a3102"
   },
   "source": [
    "Make one user one object:\n",
    "* all features are averaged\n",
    "* we hope, that categorical features do not change for one user (that's not true :/ )\n",
    "* categoricals labels are averaged (!!!) and are treated as numerical features (o_O)\n",
    "* predictions are averaged in multiple ways..."
   ]
  },
  {
   "cell_type": "code",
   "execution_count": null,
   "metadata": {
    "ExecuteTime": {
     "end_time": "2018-10-14T10:36:09.827135Z",
     "start_time": "2018-10-14T10:36:09.821150Z"
    },
    "_uuid": "9b9693648513555c5f0688af651581c7c192d581"
   },
   "outputs": [],
   "source": [
    "def create_user_df(df):\n",
    "    agg_data = df[real_cols + cat_cols + ['fullVisitorId']].groupby('fullVisitorId').mean()\n",
    "    \n",
    "    pred_list = df[['fullVisitorId', 'lgbpred']].groupby('fullVisitorId').apply(lambda visitor_df: list(visitor_df.lgbpred))\\\n",
    "        .apply(lambda x: {'pred_'+str(i): pred for i, pred in enumerate(x)})\n",
    "    all_predictions = pd.DataFrame(list(pred_list.values), index=agg_data.index)\n",
    "    feats = all_predictions.columns\n",
    "\n",
    "    all_predictions['t_mean'] = all_predictions.mean(axis=1)\n",
    "    all_predictions['t_median'] = all_predictions.median(axis=1)   # including t_mean as one of the elements? well, ok\n",
    "    all_predictions['t_sum_log'] = all_predictions.sum(axis=1)\n",
    "    all_predictions['t_sum_act'] = all_predictions.fillna(0).sum(axis=1)\n",
    "    all_predictions['t_nb_sess'] = all_predictions.isnull().sum(axis=1)\n",
    "\n",
    "    full_data = pd.concat([agg_data, all_predictions], axis=1).astype(float)\n",
    "    full_data['fullVisitorId'] = full_data.index\n",
    "    del agg_data, all_predictions\n",
    "    gc.collect()\n",
    "    return full_data"
   ]
  },
  {
   "cell_type": "code",
   "execution_count": null,
   "metadata": {
    "ExecuteTime": {
     "end_time": "2018-10-14T10:39:14.694931Z",
     "start_time": "2018-10-14T10:36:11.373146Z"
    },
    "_uuid": "c00b7107b4a9069f9be7d466c3c523cf880037ea"
   },
   "outputs": [],
   "source": [
    "user_train = create_user_df(train)\n",
    "user_test = create_user_df(test)"
   ]
  },
  {
   "cell_type": "code",
   "execution_count": null,
   "metadata": {
    "ExecuteTime": {
     "end_time": "2018-10-14T10:39:16.454615Z",
     "start_time": "2018-10-14T10:39:14.696930Z"
    },
    "_uuid": "3c2550e5680a06aa78525cc6fac57e70fb288f6b"
   },
   "outputs": [],
   "source": [
    "features = list(user_train.columns)[:-1]  # don't include \"fullVisitorId\"\n",
    "user_train[\"totals.transactionRevenue\"] = train[['fullVisitorId', 'totals.transactionRevenue']].groupby('fullVisitorId').sum()"
   ]
  },
  {
   "cell_type": "code",
   "execution_count": null,
   "metadata": {
    "ExecuteTime": {
     "end_time": "2018-10-14T10:39:30.672677Z",
     "start_time": "2018-10-14T10:39:30.651678Z"
    },
    "_uuid": "2cb410a63ac86d08117421bdcee2c32ffce980a5"
   },
   "outputs": [],
   "source": [
    "# featureがuser_test.columnになかったらNaNにする\n",
    "for f in features:\n",
    "    if f not in user_test.columns:\n",
    "        user_test[f] = np.nan"
   ]
  },
  {
   "cell_type": "markdown",
   "metadata": {
    "_uuid": "c1e15413cbb73c6e74948e91f173dfc8fb2db093"
   },
   "source": [
    "# Meta-models"
   ]
  },
  {
   "cell_type": "code",
   "execution_count": null,
   "metadata": {
    "ExecuteTime": {
     "end_time": "2018-10-14T10:39:44.481353Z",
     "start_time": "2018-10-14T10:39:38.085163Z"
    },
    "_uuid": "3161efd586a3bc6421c92b16192e7d768105f008"
   },
   "outputs": [],
   "source": [
    "Kfolder = KFoldValidation(user_train)"
   ]
  },
  {
   "cell_type": "code",
   "execution_count": null,
   "metadata": {
    "ExecuteTime": {
     "end_time": "2018-10-14T10:39:44.488349Z",
     "start_time": "2018-10-14T10:39:44.482352Z"
    },
    "_uuid": "31cac11992e6c8704766d6224c355d796dba4642"
   },
   "outputs": [],
   "source": [
    "lgbmodel = lgb.LGBMRegressor(n_estimators=1000, objective=\"regression\", metric=\"rmse\", num_leaves=31, min_child_samples=100,\n",
    "                      learning_rate=0.03, bagging_fraction=0.7, feature_fraction=0.5, bagging_frequency=5, \n",
    "                      bagging_seed=2019, subsample=.9, colsample_bytree=.9,\n",
    "                            use_best_model=True)"
   ]
  },
  {
   "cell_type": "code",
   "execution_count": null,
   "metadata": {
    "ExecuteTime": {
     "end_time": "2018-10-14T10:42:33.819663Z",
     "start_time": "2018-10-14T10:39:44.490358Z"
    },
    "_uuid": "682665e7749f8378bd90ba78adf265fabde8a146",
    "scrolled": true
   },
   "outputs": [],
   "source": [
    "Kfolder.validate(user_train, user_test, features, lgbmodel, name=\"lgbfinal\", prepare_stacking=True)"
   ]
  },
  {
   "cell_type": "code",
   "execution_count": null,
   "metadata": {
    "ExecuteTime": {
     "end_time": "2018-10-14T10:42:33.825471Z",
     "start_time": "2018-10-14T10:42:33.820663Z"
    },
    "_uuid": "97c4de57ccfeea68d93ac407ea931d7ce422f894"
   },
   "outputs": [],
   "source": [
    "# xgbmodel = xgb.XGBRegressor(max_depth=22, learning_rate=0.02, n_estimators=1000, \n",
    "#                                          objective='reg:linear', gamma=1.45, seed=2019, silent=False,\n",
    "#                                         subsample=0.67, colsample_bytree=0.054, colsample_bylevel=0.50)"
   ]
  },
  {
   "cell_type": "code",
   "execution_count": null,
   "metadata": {
    "ExecuteTime": {
     "end_time": "2018-10-14T11:05:28.635869Z",
     "start_time": "2018-10-14T10:42:33.827470Z"
    },
    "_uuid": "26bfa011883360279934e61cad8d2f2a6ee1ccf9",
    "scrolled": true
   },
   "outputs": [],
   "source": [
    "# Kfolder.validate(user_train, user_test, features, xgbmodel, name=\"xgbfinal\", prepare_stacking=True)"
   ]
  },
  {
   "cell_type": "code",
   "execution_count": null,
   "metadata": {
    "ExecuteTime": {
     "end_time": "2018-10-14T11:05:28.655836Z",
     "start_time": "2018-10-14T11:05:28.638846Z"
    },
    "_uuid": "a69f5b9029548458fc8e6378fc7fac1e2a46ac3e"
   },
   "outputs": [],
   "source": [
    "catmodel = cat.CatBoostRegressor(iterations=500, learning_rate=0.2, depth=5, random_seed=2019)"
   ]
  },
  {
   "cell_type": "code",
   "execution_count": null,
   "metadata": {
    "ExecuteTime": {
     "end_time": "2018-10-14T11:10:36.794158Z",
     "start_time": "2018-10-14T11:05:28.657835Z"
    },
    "_uuid": "97fb40a1e6e6fb9d67d0202a9a5df781dcf591b5",
    "scrolled": true
   },
   "outputs": [],
   "source": [
    "Kfolder.validate(user_train, user_test, features, catmodel, name=\"catfinal\", prepare_stacking=True,\n",
    "                fit_params={\"use_best_model\": True, \"verbose\": 100})"
   ]
  },
  {
   "cell_type": "markdown",
   "metadata": {
    "_uuid": "ca522c27232b2b6e77795a49847e98712b58ccbf"
   },
   "source": [
    "# Ensembling dragons"
   ]
  },
  {
   "cell_type": "code",
   "execution_count": null,
   "metadata": {
    "ExecuteTime": {
     "end_time": "2018-10-14T11:10:38.041351Z",
     "start_time": "2018-10-14T11:10:36.796149Z"
    },
    "_uuid": "63e9c6b72d17bc1a95cf0d43b1fddb3ba4a69da7",
    "scrolled": true
   },
   "outputs": [],
   "source": [
    "user_train['PredictedLogRevenue'] = 0.7 * user_train[\"lgbfinal\"] + \\\n",
    "#                                     0.2 * user_train[\"xgbfinal\"] + \\\n",
    "                                    0.3 * user_train[\"catfinal\"]\n",
    "score(user_train, user_train.PredictedLogRevenue)"
   ]
  },
  {
   "cell_type": "code",
   "execution_count": null,
   "metadata": {
    "ExecuteTime": {
     "end_time": "2018-10-14T11:10:42.362447Z",
     "start_time": "2018-10-14T11:10:38.042333Z"
    },
    "_uuid": "8458bf6e73d51551b3a9414583acf4d23138eb0b"
   },
   "outputs": [],
   "source": [
    "print('Saving result to csv...')\n",
    "today = datetime.datetime.today().strftime(\"%Y_%m_%d\")  # フォーマットの指定\n",
    "output_path = '/Users/rick/Dropbox/python_projects/data_science/Kaggle/GA_customer_revenue_prediction/output/'\n",
    "user_test['PredictedLogRevenue'] = 0.7 * user_test[\"lgbfinal\"] + 0.3 * user_test[\"catfinal\"]\n",
    "user_test[['PredictedLogRevenue']].to_csv(output_path + 'light_cat_v2' + today + '.csv', index=True)"
   ]
  },
  {
   "cell_type": "code",
   "execution_count": null,
   "metadata": {
    "_uuid": "44e0d5432e8a48f9f53227093b951af22c6386e3"
   },
   "outputs": [],
   "source": []
  }
 ],
 "metadata": {
  "kernelspec": {
   "display_name": "Python 3",
   "language": "python",
   "name": "python3"
  },
  "language_info": {
   "codemirror_mode": {
    "name": "ipython",
    "version": 3
   },
   "file_extension": ".py",
   "mimetype": "text/x-python",
   "name": "python",
   "nbconvert_exporter": "python",
   "pygments_lexer": "ipython3",
   "version": "3.6.5"
  },
  "latex_envs": {
   "LaTeX_envs_menu_present": true,
   "autoclose": false,
   "autocomplete": true,
   "bibliofile": "biblio.bib",
   "cite_by": "apalike",
   "current_citInitial": 1,
   "eqLabelWithNumbers": true,
   "eqNumInitial": 1,
   "hotkeys": {
    "equation": "Ctrl-E",
    "itemize": "Ctrl-I"
   },
   "labels_anchors": false,
   "latex_user_defs": false,
   "report_style_numbering": false,
   "user_envs_cfg": false
  },
  "notify_time": "10"
 },
 "nbformat": 4,
 "nbformat_minor": 1
}
